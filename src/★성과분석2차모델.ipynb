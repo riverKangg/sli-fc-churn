{
 "cells": [
  {
   "cell_type": "code",
   "execution_count": 1,
   "metadata": {},
   "outputs": [
    {
     "data": {
      "text/plain": [
       "(13773, 18)"
      ]
     },
     "execution_count": 1,
     "metadata": {},
     "output_type": "execute_result"
    }
   ],
   "source": [
    "import warnings\n",
    "warnings.filterwarnings('ignore')\n",
    "import pandas as pd\n",
    "raw = pd.read_csv('./DATA/데이터2303_2310.csv', encoding='euc-kr', converters={'코드':str})\n",
    "raw.shape"
   ]
  },
  {
   "cell_type": "code",
   "execution_count": 2,
   "metadata": {},
   "outputs": [
    {
     "data": {
      "text/html": [
       "<div>\n",
       "<style scoped>\n",
       "    .dataframe tbody tr th:only-of-type {\n",
       "        vertical-align: middle;\n",
       "    }\n",
       "\n",
       "    .dataframe tbody tr th {\n",
       "        vertical-align: top;\n",
       "    }\n",
       "\n",
       "    .dataframe thead th {\n",
       "        text-align: right;\n",
       "    }\n",
       "</style>\n",
       "<table border=\"1\" class=\"dataframe\">\n",
       "  <thead>\n",
       "    <tr style=\"text-align: right;\">\n",
       "      <th></th>\n",
       "      <th>해촉일자</th>\n",
       "      <th>해촉사유</th>\n",
       "    </tr>\n",
       "    <tr>\n",
       "      <th>코드</th>\n",
       "      <th></th>\n",
       "      <th></th>\n",
       "    </tr>\n",
       "  </thead>\n",
       "  <tbody>\n",
       "    <tr>\n",
       "      <th>0001870469</th>\n",
       "      <td>NaN</td>\n",
       "      <td>NaN</td>\n",
       "    </tr>\n",
       "  </tbody>\n",
       "</table>\n",
       "</div>"
      ],
      "text/plain": [
       "            해촉일자 해촉사유\n",
       "코드                   \n",
       "0001870469   NaN  NaN"
      ]
     },
     "execution_count": 2,
     "metadata": {},
     "output_type": "execute_result"
    }
   ],
   "source": [
    "data = raw[(raw['2308차월']>7)&(raw['2308차월']<38)]\n",
    "data = data[(data.해촉사유.isna() )| ((data.해촉사유=='일반')&(data.해촉일자>20230801))]\n",
    "data = data[['코드','해촉일자','해촉사유']]\n",
    "data = data.set_index('코드')\n",
    "data.head(1)"
   ]
  },
  {
   "cell_type": "markdown",
   "metadata": {},
   "source": [
    "# 등급별 이탈률"
   ]
  },
  {
   "cell_type": "code",
   "execution_count": 3,
   "metadata": {},
   "outputs": [
    {
     "data": {
      "text/html": [
       "<div>\n",
       "<style scoped>\n",
       "    .dataframe tbody tr th:only-of-type {\n",
       "        vertical-align: middle;\n",
       "    }\n",
       "\n",
       "    .dataframe tbody tr th {\n",
       "        vertical-align: top;\n",
       "    }\n",
       "\n",
       "    .dataframe thead th {\n",
       "        text-align: right;\n",
       "    }\n",
       "</style>\n",
       "<table border=\"1\" class=\"dataframe\">\n",
       "  <thead>\n",
       "    <tr style=\"text-align: right;\">\n",
       "      <th></th>\n",
       "      <th>score1</th>\n",
       "      <th>pred</th>\n",
       "      <th>그룹</th>\n",
       "      <th>환산</th>\n",
       "      <th>활동1</th>\n",
       "      <th>활동2</th>\n",
       "      <th>case</th>\n",
       "      <th>2308차월</th>\n",
       "    </tr>\n",
       "    <tr>\n",
       "      <th>코드</th>\n",
       "      <th></th>\n",
       "      <th></th>\n",
       "      <th></th>\n",
       "      <th></th>\n",
       "      <th></th>\n",
       "      <th></th>\n",
       "      <th></th>\n",
       "      <th></th>\n",
       "    </tr>\n",
       "  </thead>\n",
       "  <tbody>\n",
       "    <tr>\n",
       "      <th>0001920598</th>\n",
       "      <td>752</td>\n",
       "      <td>0.006357</td>\n",
       "      <td>1</td>\n",
       "      <td>True</td>\n",
       "      <td>True</td>\n",
       "      <td>True</td>\n",
       "      <td>1</td>\n",
       "      <td>7</td>\n",
       "    </tr>\n",
       "  </tbody>\n",
       "</table>\n",
       "</div>"
      ],
      "text/plain": [
       "            score1      pred  그룹    환산   활동1   활동2  case  2308차월\n",
       "코드                                                              \n",
       "0001920598     752  0.006357   1  True  True  True     1       7"
      ]
     },
     "execution_count": 3,
     "metadata": {},
     "output_type": "execute_result"
    }
   ],
   "source": [
    "score = pd.read_excel('../result2차/스코어_2308.xlsx', encoding='euc-kr', converters={'코드':str})\n",
    "score = score.set_index('코드')\n",
    "score.head(1)"
   ]
  },
  {
   "cell_type": "code",
   "execution_count": 4,
   "metadata": {},
   "outputs": [
    {
     "data": {
      "text/plain": [
       "(5638, 2)"
      ]
     },
     "execution_count": 4,
     "metadata": {},
     "output_type": "execute_result"
    }
   ],
   "source": [
    "data.shape"
   ]
  },
  {
   "cell_type": "code",
   "execution_count": 5,
   "metadata": {},
   "outputs": [
    {
     "data": {
      "text/plain": [
       "(5432, 10)"
      ]
     },
     "execution_count": 5,
     "metadata": {},
     "output_type": "execute_result"
    }
   ],
   "source": [
    "df = data.join(score)\n",
    "df = df[~df.score1.isna()]\n",
    "# df.head(1)\n",
    "df.shape"
   ]
  },
  {
   "cell_type": "code",
   "execution_count": 25,
   "metadata": {},
   "outputs": [
    {
     "data": {
      "text/plain": [
       "[0, 323.0, 416.0, 509.0, 564.0, 602.0, 632.0, 663.0, 747.0]"
      ]
     },
     "execution_count": 25,
     "metadata": {},
     "output_type": "execute_result"
    }
   ],
   "source": [
    "bins = [0]\n",
    "num_cat = 8\n",
    "for i in range(num_cat-1):\n",
    "    bins += [round(df.score1.quantile((i+1)/num_cat))]\n",
    "bins += [max(df.score1)]\n",
    "bins"
   ]
  },
  {
   "cell_type": "code",
   "execution_count": 26,
   "metadata": {},
   "outputs": [
    {
     "data": {
      "text/html": [
       "<div>\n",
       "<style scoped>\n",
       "    .dataframe tbody tr th:only-of-type {\n",
       "        vertical-align: middle;\n",
       "    }\n",
       "\n",
       "    .dataframe tbody tr th {\n",
       "        vertical-align: top;\n",
       "    }\n",
       "\n",
       "    .dataframe thead th {\n",
       "        text-align: right;\n",
       "    }\n",
       "</style>\n",
       "<table border=\"1\" class=\"dataframe\">\n",
       "  <thead>\n",
       "    <tr style=\"text-align: right;\">\n",
       "      <th></th>\n",
       "      <th>해촉일자</th>\n",
       "      <th>해촉사유</th>\n",
       "      <th>y</th>\n",
       "      <th>score1</th>\n",
       "      <th>pred</th>\n",
       "      <th>그룹</th>\n",
       "      <th>환산</th>\n",
       "      <th>활동1</th>\n",
       "      <th>활동2</th>\n",
       "      <th>case</th>\n",
       "      <th>2309차월</th>\n",
       "      <th>grade</th>\n",
       "      <th>FC명</th>\n",
       "      <th>차월</th>\n",
       "      <th>사전센싱대상자</th>\n",
       "    </tr>\n",
       "    <tr>\n",
       "      <th>코드</th>\n",
       "      <th></th>\n",
       "      <th></th>\n",
       "      <th></th>\n",
       "      <th></th>\n",
       "      <th></th>\n",
       "      <th></th>\n",
       "      <th></th>\n",
       "      <th></th>\n",
       "      <th></th>\n",
       "      <th></th>\n",
       "      <th></th>\n",
       "      <th></th>\n",
       "      <th></th>\n",
       "      <th></th>\n",
       "      <th></th>\n",
       "    </tr>\n",
       "  </thead>\n",
       "  <tbody>\n",
       "    <tr>\n",
       "      <th>0001870469</th>\n",
       "      <td>NaN</td>\n",
       "      <td>NaN</td>\n",
       "      <td>0</td>\n",
       "      <td>579.0</td>\n",
       "      <td>0.065948</td>\n",
       "      <td>2.0</td>\n",
       "      <td>True</td>\n",
       "      <td>False</td>\n",
       "      <td>False</td>\n",
       "      <td>5.0</td>\n",
       "      <td>15.0</td>\n",
       "      <td>5</td>\n",
       "      <td>NaN</td>\n",
       "      <td>NaN</td>\n",
       "      <td>0.0</td>\n",
       "    </tr>\n",
       "  </tbody>\n",
       "</table>\n",
       "</div>"
      ],
      "text/plain": [
       "            해촉일자 해촉사유  y  score1      pred   그룹    환산    활동1    활동2  case  \\\n",
       "코드                                                                          \n",
       "0001870469   NaN  NaN  0   579.0  0.065948  2.0  True  False  False   5.0   \n",
       "\n",
       "            2309차월 grade  FC명  차월  사전센싱대상자  \n",
       "코드                                          \n",
       "0001870469    15.0     5  NaN NaN      0.0  "
      ]
     },
     "execution_count": 26,
     "metadata": {},
     "output_type": "execute_result"
    }
   ],
   "source": [
    "labels = list(range(1, len(bins)))\n",
    "df['grade'] = pd.cut(df['score1'], bins=bins, labels=labels, include_lowest=True)\n",
    "df['y'] = list(map(lambda x: 1 if x=='일반' else 0, df.해촉사유))\n",
    "df.head(1)"
   ]
  },
  {
   "cell_type": "code",
   "execution_count": 27,
   "metadata": {},
   "outputs": [
    {
     "data": {
      "text/html": [
       "<div>\n",
       "<style scoped>\n",
       "    .dataframe tbody tr th:only-of-type {\n",
       "        vertical-align: middle;\n",
       "    }\n",
       "\n",
       "    .dataframe tbody tr th {\n",
       "        vertical-align: top;\n",
       "    }\n",
       "\n",
       "    .dataframe thead th {\n",
       "        text-align: right;\n",
       "    }\n",
       "</style>\n",
       "<table border=\"1\" class=\"dataframe\">\n",
       "  <thead>\n",
       "    <tr style=\"text-align: right;\">\n",
       "      <th></th>\n",
       "      <th>grade</th>\n",
       "      <th>대상자수</th>\n",
       "      <th>이탈자수</th>\n",
       "      <th>평균점수</th>\n",
       "      <th>이탈률</th>\n",
       "    </tr>\n",
       "  </thead>\n",
       "  <tbody>\n",
       "    <tr>\n",
       "      <th>7</th>\n",
       "      <td>8</td>\n",
       "      <td>697</td>\n",
       "      <td>0</td>\n",
       "      <td>687.350072</td>\n",
       "      <td>0.000000</td>\n",
       "    </tr>\n",
       "    <tr>\n",
       "      <th>6</th>\n",
       "      <td>7</td>\n",
       "      <td>675</td>\n",
       "      <td>0</td>\n",
       "      <td>647.008889</td>\n",
       "      <td>0.000000</td>\n",
       "    </tr>\n",
       "    <tr>\n",
       "      <th>5</th>\n",
       "      <td>6</td>\n",
       "      <td>713</td>\n",
       "      <td>2</td>\n",
       "      <td>617.957924</td>\n",
       "      <td>0.002805</td>\n",
       "    </tr>\n",
       "    <tr>\n",
       "      <th>4</th>\n",
       "      <td>5</td>\n",
       "      <td>704</td>\n",
       "      <td>2</td>\n",
       "      <td>584.187500</td>\n",
       "      <td>0.002841</td>\n",
       "    </tr>\n",
       "    <tr>\n",
       "      <th>3</th>\n",
       "      <td>4</td>\n",
       "      <td>705</td>\n",
       "      <td>4</td>\n",
       "      <td>538.648227</td>\n",
       "      <td>0.005674</td>\n",
       "    </tr>\n",
       "    <tr>\n",
       "      <th>2</th>\n",
       "      <td>3</td>\n",
       "      <td>705</td>\n",
       "      <td>7</td>\n",
       "      <td>468.055319</td>\n",
       "      <td>0.009929</td>\n",
       "    </tr>\n",
       "    <tr>\n",
       "      <th>1</th>\n",
       "      <td>2</td>\n",
       "      <td>696</td>\n",
       "      <td>44</td>\n",
       "      <td>363.076149</td>\n",
       "      <td>0.063218</td>\n",
       "    </tr>\n",
       "    <tr>\n",
       "      <th>0</th>\n",
       "      <td>1</td>\n",
       "      <td>705</td>\n",
       "      <td>123</td>\n",
       "      <td>300.251064</td>\n",
       "      <td>0.174468</td>\n",
       "    </tr>\n",
       "  </tbody>\n",
       "</table>\n",
       "</div>"
      ],
      "text/plain": [
       "  grade  대상자수  이탈자수        평균점수       이탈률\n",
       "7     8   697     0  687.350072  0.000000\n",
       "6     7   675     0  647.008889  0.000000\n",
       "5     6   713     2  617.957924  0.002805\n",
       "4     5   704     2  584.187500  0.002841\n",
       "3     4   705     4  538.648227  0.005674\n",
       "2     3   705     7  468.055319  0.009929\n",
       "1     2   696    44  363.076149  0.063218\n",
       "0     1   705   123  300.251064  0.174468"
      ]
     },
     "execution_count": 27,
     "metadata": {},
     "output_type": "execute_result"
    }
   ],
   "source": [
    "grade_df = df.groupby(['grade']).agg(대상자수=('grade','size'),\n",
    "                                    이탈자수=('y','sum'),\n",
    "                                    평균점수=('score1','mean')\n",
    "                                    ).reset_index()\n",
    "grade_df = grade_df.sort_values(by='grade', ascending=False)\n",
    "grade_df['이탈률'] = grade_df.이탈자수/grade_df.대상자수\n",
    "grade_df"
   ]
  },
  {
   "cell_type": "code",
   "execution_count": 9,
   "metadata": {},
   "outputs": [
    {
     "data": {
      "text/plain": [
       "524.3777614138439"
      ]
     },
     "execution_count": 9,
     "metadata": {},
     "output_type": "execute_result"
    }
   ],
   "source": [
    "df.score1.mean()"
   ]
  },
  {
   "cell_type": "markdown",
   "metadata": {},
   "source": [
    "# 분류별 이탈률"
   ]
  },
  {
   "cell_type": "code",
   "execution_count": 10,
   "metadata": {},
   "outputs": [
    {
     "data": {
      "text/html": [
       "<div>\n",
       "<style scoped>\n",
       "    .dataframe tbody tr th:only-of-type {\n",
       "        vertical-align: middle;\n",
       "    }\n",
       "\n",
       "    .dataframe tbody tr th {\n",
       "        vertical-align: top;\n",
       "    }\n",
       "\n",
       "    .dataframe thead th {\n",
       "        text-align: right;\n",
       "    }\n",
       "</style>\n",
       "<table border=\"1\" class=\"dataframe\">\n",
       "  <thead>\n",
       "    <tr style=\"text-align: right;\">\n",
       "      <th></th>\n",
       "      <th>case</th>\n",
       "      <th>대상자수</th>\n",
       "      <th>이탈자수</th>\n",
       "      <th>평균점수</th>\n",
       "      <th>이탈률</th>\n",
       "    </tr>\n",
       "  </thead>\n",
       "  <tbody>\n",
       "    <tr>\n",
       "      <th>0</th>\n",
       "      <td>1.0</td>\n",
       "      <td>1101</td>\n",
       "      <td>3</td>\n",
       "      <td>667.842870</td>\n",
       "      <td>0.002725</td>\n",
       "    </tr>\n",
       "    <tr>\n",
       "      <th>1</th>\n",
       "      <td>2.0</td>\n",
       "      <td>1424</td>\n",
       "      <td>10</td>\n",
       "      <td>615.125000</td>\n",
       "      <td>0.007022</td>\n",
       "    </tr>\n",
       "    <tr>\n",
       "      <th>2</th>\n",
       "      <td>3.0</td>\n",
       "      <td>90</td>\n",
       "      <td>0</td>\n",
       "      <td>611.177778</td>\n",
       "      <td>0.000000</td>\n",
       "    </tr>\n",
       "    <tr>\n",
       "      <th>3</th>\n",
       "      <td>4.0</td>\n",
       "      <td>12</td>\n",
       "      <td>0</td>\n",
       "      <td>549.833333</td>\n",
       "      <td>0.000000</td>\n",
       "    </tr>\n",
       "    <tr>\n",
       "      <th>4</th>\n",
       "      <td>5.0</td>\n",
       "      <td>1146</td>\n",
       "      <td>21</td>\n",
       "      <td>521.788831</td>\n",
       "      <td>0.018325</td>\n",
       "    </tr>\n",
       "    <tr>\n",
       "      <th>5</th>\n",
       "      <td>6.0</td>\n",
       "      <td>9</td>\n",
       "      <td>0</td>\n",
       "      <td>502.444444</td>\n",
       "      <td>0.000000</td>\n",
       "    </tr>\n",
       "    <tr>\n",
       "      <th>6</th>\n",
       "      <td>7.0</td>\n",
       "      <td>66</td>\n",
       "      <td>5</td>\n",
       "      <td>488.484848</td>\n",
       "      <td>0.075758</td>\n",
       "    </tr>\n",
       "    <tr>\n",
       "      <th>7</th>\n",
       "      <td>8.0</td>\n",
       "      <td>1584</td>\n",
       "      <td>415</td>\n",
       "      <td>341.446338</td>\n",
       "      <td>0.261995</td>\n",
       "    </tr>\n",
       "  </tbody>\n",
       "</table>\n",
       "</div>"
      ],
      "text/plain": [
       "   case  대상자수  이탈자수        평균점수       이탈률\n",
       "0   1.0  1101     3  667.842870  0.002725\n",
       "1   2.0  1424    10  615.125000  0.007022\n",
       "2   3.0    90     0  611.177778  0.000000\n",
       "3   4.0    12     0  549.833333  0.000000\n",
       "4   5.0  1146    21  521.788831  0.018325\n",
       "5   6.0     9     0  502.444444  0.000000\n",
       "6   7.0    66     5  488.484848  0.075758\n",
       "7   8.0  1584   415  341.446338  0.261995"
      ]
     },
     "execution_count": 10,
     "metadata": {},
     "output_type": "execute_result"
    }
   ],
   "source": [
    "grade_df = df.groupby(['case']).agg(대상자수=('case','size'),\n",
    "                                    이탈자수=('y','sum'),\n",
    "                                    평균점수=('score1','mean')\n",
    "                                    ).reset_index()\n",
    "# grade_df = grade_df.sort_values(by='case')\n",
    "grade_df['이탈률'] = grade_df.이탈자수/grade_df.대상자수\n",
    "grade_df"
   ]
  },
  {
   "cell_type": "markdown",
   "metadata": {},
   "source": [
    "# 사전센싱 선정 대상자"
   ]
  },
  {
   "cell_type": "code",
   "execution_count": 11,
   "metadata": {},
   "outputs": [
    {
     "data": {
      "text/html": [
       "<div>\n",
       "<style scoped>\n",
       "    .dataframe tbody tr th:only-of-type {\n",
       "        vertical-align: middle;\n",
       "    }\n",
       "\n",
       "    .dataframe tbody tr th {\n",
       "        vertical-align: top;\n",
       "    }\n",
       "\n",
       "    .dataframe thead th {\n",
       "        text-align: right;\n",
       "    }\n",
       "</style>\n",
       "<table border=\"1\" class=\"dataframe\">\n",
       "  <thead>\n",
       "    <tr style=\"text-align: right;\">\n",
       "      <th></th>\n",
       "      <th>해촉일자</th>\n",
       "      <th>해촉사유</th>\n",
       "      <th>y</th>\n",
       "    </tr>\n",
       "    <tr>\n",
       "      <th>코드</th>\n",
       "      <th></th>\n",
       "      <th></th>\n",
       "      <th></th>\n",
       "    </tr>\n",
       "  </thead>\n",
       "  <tbody>\n",
       "    <tr>\n",
       "      <th>0001870469</th>\n",
       "      <td>NaN</td>\n",
       "      <td>NaN</td>\n",
       "      <td>0</td>\n",
       "    </tr>\n",
       "  </tbody>\n",
       "</table>\n",
       "</div>"
      ],
      "text/plain": [
       "            해촉일자 해촉사유  y\n",
       "코드                      \n",
       "0001870469   NaN  NaN  0"
      ]
     },
     "execution_count": 11,
     "metadata": {},
     "output_type": "execute_result"
    }
   ],
   "source": [
    "tot = raw[(raw['2308차월']>7)&(raw['2308차월']<38)&(raw.해촉사유!='내용증명')&(raw.해촉사유!='사망')]\n",
    "tot = tot[['코드','해촉일자','해촉사유']].set_index('코드')\n",
    "tot['y'] = list(map(lambda x: 1 if x=='일반' else 0, tot.해촉사유))\n",
    "tot.head(1)"
   ]
  },
  {
   "cell_type": "code",
   "execution_count": 12,
   "metadata": {},
   "outputs": [
    {
     "data": {
      "text/plain": [
       "일반    3561\n",
       "Name: 해촉사유, dtype: int64"
      ]
     },
     "execution_count": 12,
     "metadata": {},
     "output_type": "execute_result"
    }
   ],
   "source": [
    "tot.해촉사유.value_counts()"
   ]
  },
  {
   "cell_type": "code",
   "execution_count": 13,
   "metadata": {},
   "outputs": [
    {
     "data": {
      "text/plain": [
       "(5432, 15)"
      ]
     },
     "execution_count": 13,
     "metadata": {},
     "output_type": "execute_result"
    }
   ],
   "source": [
    "program_lst = pd.read_csv('./사전센싱대상자/대상자2308.csv', converters={'FC코드':str}, delimiter='\\t')\n",
    "program_lst['사전센싱대상자']=1\n",
    "program_lst = program_lst.set_index('FC코드')\n",
    "\n",
    "score = pd.read_excel('../result2차/스코어_2308.xlsx', converters={'코드':str})\n",
    "score = score[(score['2308차월']>=8)&(score['2308차월']<=37)]\n",
    "\n",
    "score['grade'] = pd.cut(score['score1'], bins=bins, labels=labels, include_lowest=True)\n",
    "score = score.set_index('코드')\n",
    "\n",
    "df = tot.join(score).join(program_lst)\n",
    "df = df[~df.score1.isna()]\n",
    "df['사전센싱대상자'] = df.사전센싱대상자.fillna(0)\n",
    "df.shape"
   ]
  },
  {
   "cell_type": "code",
   "execution_count": 20,
   "metadata": {
    "scrolled": true
   },
   "outputs": [
    {
     "data": {
      "text/html": [
       "<div>\n",
       "<style scoped>\n",
       "    .dataframe tbody tr th:only-of-type {\n",
       "        vertical-align: middle;\n",
       "    }\n",
       "\n",
       "    .dataframe tbody tr th {\n",
       "        vertical-align: top;\n",
       "    }\n",
       "\n",
       "    .dataframe thead th {\n",
       "        text-align: right;\n",
       "    }\n",
       "</style>\n",
       "<table border=\"1\" class=\"dataframe\">\n",
       "  <thead>\n",
       "    <tr style=\"text-align: right;\">\n",
       "      <th></th>\n",
       "      <th>grade</th>\n",
       "      <th>전체대상자</th>\n",
       "      <th>사전센싱대상자</th>\n",
       "      <th>이탈자수</th>\n",
       "      <th>이탈률</th>\n",
       "    </tr>\n",
       "  </thead>\n",
       "  <tbody>\n",
       "    <tr>\n",
       "      <th>3</th>\n",
       "      <td>4</td>\n",
       "      <td>1222</td>\n",
       "      <td>118.0</td>\n",
       "      <td>0</td>\n",
       "      <td>0.000000</td>\n",
       "    </tr>\n",
       "    <tr>\n",
       "      <th>2</th>\n",
       "      <td>3</td>\n",
       "      <td>1601</td>\n",
       "      <td>211.0</td>\n",
       "      <td>5</td>\n",
       "      <td>0.003123</td>\n",
       "    </tr>\n",
       "    <tr>\n",
       "      <th>1</th>\n",
       "      <td>2</td>\n",
       "      <td>1489</td>\n",
       "      <td>165.0</td>\n",
       "      <td>15</td>\n",
       "      <td>0.010074</td>\n",
       "    </tr>\n",
       "    <tr>\n",
       "      <th>0</th>\n",
       "      <td>1</td>\n",
       "      <td>1288</td>\n",
       "      <td>24.0</td>\n",
       "      <td>162</td>\n",
       "      <td>0.125776</td>\n",
       "    </tr>\n",
       "  </tbody>\n",
       "</table>\n",
       "</div>"
      ],
      "text/plain": [
       "  grade  전체대상자  사전센싱대상자  이탈자수       이탈률\n",
       "3     4   1222    118.0     0  0.000000\n",
       "2     3   1601    211.0     5  0.003123\n",
       "1     2   1489    165.0    15  0.010074\n",
       "0     1   1288     24.0   162  0.125776"
      ]
     },
     "execution_count": 20,
     "metadata": {},
     "output_type": "execute_result"
    }
   ],
   "source": [
    "grade_df = df.groupby(['grade']).agg(전체대상자=('그룹','size'),\n",
    "                                    사전센싱대상자=('사전센싱대상자', 'sum'),\n",
    "                                    이탈자수=('y','sum'),\n",
    "                                    이탈률=('y','mean'),\n",
    "                                      ).reset_index()\n",
    "grade_df.sort_values(by='grade',ascending=False)"
   ]
  },
  {
   "cell_type": "code",
   "execution_count": 21,
   "metadata": {},
   "outputs": [
    {
     "data": {
      "text/html": [
       "<div>\n",
       "<style scoped>\n",
       "    .dataframe tbody tr th:only-of-type {\n",
       "        vertical-align: middle;\n",
       "    }\n",
       "\n",
       "    .dataframe tbody tr th {\n",
       "        vertical-align: top;\n",
       "    }\n",
       "\n",
       "    .dataframe thead th {\n",
       "        text-align: right;\n",
       "    }\n",
       "</style>\n",
       "<table border=\"1\" class=\"dataframe\">\n",
       "  <thead>\n",
       "    <tr style=\"text-align: right;\">\n",
       "      <th></th>\n",
       "      <th>grade</th>\n",
       "      <th>전체대상자</th>\n",
       "      <th>사전센싱대상자</th>\n",
       "      <th>이탈자수</th>\n",
       "      <th>이탈률</th>\n",
       "    </tr>\n",
       "  </thead>\n",
       "  <tbody>\n",
       "    <tr>\n",
       "      <th>3</th>\n",
       "      <td>4</td>\n",
       "      <td>118</td>\n",
       "      <td>118.0</td>\n",
       "      <td>0</td>\n",
       "      <td>0.000000</td>\n",
       "    </tr>\n",
       "    <tr>\n",
       "      <th>2</th>\n",
       "      <td>3</td>\n",
       "      <td>211</td>\n",
       "      <td>211.0</td>\n",
       "      <td>1</td>\n",
       "      <td>0.004739</td>\n",
       "    </tr>\n",
       "    <tr>\n",
       "      <th>1</th>\n",
       "      <td>2</td>\n",
       "      <td>165</td>\n",
       "      <td>165.0</td>\n",
       "      <td>0</td>\n",
       "      <td>0.000000</td>\n",
       "    </tr>\n",
       "    <tr>\n",
       "      <th>0</th>\n",
       "      <td>1</td>\n",
       "      <td>24</td>\n",
       "      <td>24.0</td>\n",
       "      <td>1</td>\n",
       "      <td>0.041667</td>\n",
       "    </tr>\n",
       "  </tbody>\n",
       "</table>\n",
       "</div>"
      ],
      "text/plain": [
       "  grade  전체대상자  사전센싱대상자  이탈자수       이탈률\n",
       "3     4    118    118.0     0  0.000000\n",
       "2     3    211    211.0     1  0.004739\n",
       "1     2    165    165.0     0  0.000000\n",
       "0     1     24     24.0     1  0.041667"
      ]
     },
     "execution_count": 21,
     "metadata": {},
     "output_type": "execute_result"
    }
   ],
   "source": [
    "df2 = df[df.사전센싱대상자==1]\n",
    "grade_df = df2.groupby(['grade']).agg(전체대상자=('그룹','size'),\n",
    "                                    사전센싱대상자=('사전센싱대상자', 'sum'),\n",
    "                                    이탈자수=('y','sum'),\n",
    "                                    이탈률=('y','mean'),\n",
    "#                              내용증명=('내용증명','sum')\n",
    "                                      ).reset_index()\n",
    "grade_df.sort_values(by='grade',ascending=False)"
   ]
  },
  {
   "cell_type": "code",
   "execution_count": 16,
   "metadata": {},
   "outputs": [
    {
     "data": {
      "text/html": [
       "<div>\n",
       "<style scoped>\n",
       "    .dataframe tbody tr th:only-of-type {\n",
       "        vertical-align: middle;\n",
       "    }\n",
       "\n",
       "    .dataframe tbody tr th {\n",
       "        vertical-align: top;\n",
       "    }\n",
       "\n",
       "    .dataframe thead th {\n",
       "        text-align: right;\n",
       "    }\n",
       "</style>\n",
       "<table border=\"1\" class=\"dataframe\">\n",
       "  <thead>\n",
       "    <tr style=\"text-align: right;\">\n",
       "      <th></th>\n",
       "      <th>case</th>\n",
       "      <th>전체대상자</th>\n",
       "      <th>사전센싱대상자</th>\n",
       "      <th>이탈자수</th>\n",
       "      <th>이탈률</th>\n",
       "    </tr>\n",
       "  </thead>\n",
       "  <tbody>\n",
       "    <tr>\n",
       "      <th>0</th>\n",
       "      <td>1.0</td>\n",
       "      <td>1101</td>\n",
       "      <td>97.0</td>\n",
       "      <td>3</td>\n",
       "      <td>0.002725</td>\n",
       "    </tr>\n",
       "    <tr>\n",
       "      <th>1</th>\n",
       "      <td>2.0</td>\n",
       "      <td>1424</td>\n",
       "      <td>287.0</td>\n",
       "      <td>10</td>\n",
       "      <td>0.007022</td>\n",
       "    </tr>\n",
       "    <tr>\n",
       "      <th>2</th>\n",
       "      <td>3.0</td>\n",
       "      <td>90</td>\n",
       "      <td>6.0</td>\n",
       "      <td>0</td>\n",
       "      <td>0.000000</td>\n",
       "    </tr>\n",
       "    <tr>\n",
       "      <th>3</th>\n",
       "      <td>4.0</td>\n",
       "      <td>12</td>\n",
       "      <td>4.0</td>\n",
       "      <td>0</td>\n",
       "      <td>0.000000</td>\n",
       "    </tr>\n",
       "    <tr>\n",
       "      <th>4</th>\n",
       "      <td>5.0</td>\n",
       "      <td>1146</td>\n",
       "      <td>73.0</td>\n",
       "      <td>21</td>\n",
       "      <td>0.018325</td>\n",
       "    </tr>\n",
       "    <tr>\n",
       "      <th>5</th>\n",
       "      <td>6.0</td>\n",
       "      <td>9</td>\n",
       "      <td>2.0</td>\n",
       "      <td>0</td>\n",
       "      <td>0.000000</td>\n",
       "    </tr>\n",
       "    <tr>\n",
       "      <th>6</th>\n",
       "      <td>7.0</td>\n",
       "      <td>66</td>\n",
       "      <td>18.0</td>\n",
       "      <td>5</td>\n",
       "      <td>0.075758</td>\n",
       "    </tr>\n",
       "    <tr>\n",
       "      <th>7</th>\n",
       "      <td>8.0</td>\n",
       "      <td>1584</td>\n",
       "      <td>43.0</td>\n",
       "      <td>415</td>\n",
       "      <td>0.261995</td>\n",
       "    </tr>\n",
       "  </tbody>\n",
       "</table>\n",
       "</div>"
      ],
      "text/plain": [
       "   case  전체대상자  사전센싱대상자  이탈자수       이탈률\n",
       "0   1.0   1101     97.0     3  0.002725\n",
       "1   2.0   1424    287.0    10  0.007022\n",
       "2   3.0     90      6.0     0  0.000000\n",
       "3   4.0     12      4.0     0  0.000000\n",
       "4   5.0   1146     73.0    21  0.018325\n",
       "5   6.0      9      2.0     0  0.000000\n",
       "6   7.0     66     18.0     5  0.075758\n",
       "7   8.0   1584     43.0   415  0.261995"
      ]
     },
     "execution_count": 16,
     "metadata": {},
     "output_type": "execute_result"
    }
   ],
   "source": [
    "df.groupby(['case']).agg(전체대상자=('그룹','size'),\n",
    "                        사전센싱대상자=('사전센싱대상자', 'sum'),\n",
    "                        이탈자수=('y','sum'),\n",
    "                        이탈률=('y','mean'),\n",
    "                                      ).reset_index()"
   ]
  },
  {
   "cell_type": "markdown",
   "metadata": {},
   "source": [
    "# 사전센싱 대상자 2309"
   ]
  },
  {
   "cell_type": "code",
   "execution_count": 17,
   "metadata": {},
   "outputs": [
    {
     "data": {
      "text/plain": [
       "(5600, 15)"
      ]
     },
     "execution_count": 17,
     "metadata": {},
     "output_type": "execute_result"
    }
   ],
   "source": [
    "tot = raw[(raw['2309차월']>7)&(raw['2309차월']<38)&(raw.해촉사유!='내용증명')&(raw.해촉사유!='사망')]\n",
    "tot = tot[['코드','해촉일자','해촉사유']].set_index('코드')\n",
    "tot['y'] = list(map(lambda x: 1 if x=='일반' else 0, tot.해촉사유))\n",
    "\n",
    "\n",
    "program_lst = pd.read_csv('./사전센싱대상자/대상자2309.csv', converters={'FC코드':str}, delimiter='\\t')\n",
    "program_lst['사전센싱대상자']=1\n",
    "program_lst = program_lst.set_index('FC코드')\n",
    "\n",
    "score = pd.read_excel('../result2차/스코어_2309.xlsx', converters={'코드':str})\n",
    "score = score[(score['2309차월']>=8)&(score['2309차월']<=37)]\n",
    "\n",
    "score['grade'] = pd.cut(score['score1'], bins=bins, labels=labels, include_lowest=True)\n",
    "score = score.set_index('코드')\n",
    "\n",
    "df = tot.join(score).join(program_lst)\n",
    "df = df[~df.score1.isna()]\n",
    "df['사전센싱대상자'] = df.사전센싱대상자.fillna(0)\n",
    "df.shape"
   ]
  },
  {
   "cell_type": "code",
   "execution_count": 18,
   "metadata": {},
   "outputs": [
    {
     "data": {
      "text/html": [
       "<div>\n",
       "<style scoped>\n",
       "    .dataframe tbody tr th:only-of-type {\n",
       "        vertical-align: middle;\n",
       "    }\n",
       "\n",
       "    .dataframe tbody tr th {\n",
       "        vertical-align: top;\n",
       "    }\n",
       "\n",
       "    .dataframe thead th {\n",
       "        text-align: right;\n",
       "    }\n",
       "</style>\n",
       "<table border=\"1\" class=\"dataframe\">\n",
       "  <thead>\n",
       "    <tr style=\"text-align: right;\">\n",
       "      <th></th>\n",
       "      <th>grade</th>\n",
       "      <th>전체대상자</th>\n",
       "      <th>사전센싱대상자</th>\n",
       "      <th>이탈자수</th>\n",
       "      <th>이탈률</th>\n",
       "    </tr>\n",
       "  </thead>\n",
       "  <tbody>\n",
       "    <tr>\n",
       "      <th>3</th>\n",
       "      <td>4</td>\n",
       "      <td>1222</td>\n",
       "      <td>118.0</td>\n",
       "      <td>0</td>\n",
       "      <td>0.000000</td>\n",
       "    </tr>\n",
       "    <tr>\n",
       "      <th>2</th>\n",
       "      <td>3</td>\n",
       "      <td>1601</td>\n",
       "      <td>211.0</td>\n",
       "      <td>5</td>\n",
       "      <td>0.003123</td>\n",
       "    </tr>\n",
       "    <tr>\n",
       "      <th>1</th>\n",
       "      <td>2</td>\n",
       "      <td>1489</td>\n",
       "      <td>165.0</td>\n",
       "      <td>15</td>\n",
       "      <td>0.010074</td>\n",
       "    </tr>\n",
       "    <tr>\n",
       "      <th>0</th>\n",
       "      <td>1</td>\n",
       "      <td>1288</td>\n",
       "      <td>24.0</td>\n",
       "      <td>162</td>\n",
       "      <td>0.125776</td>\n",
       "    </tr>\n",
       "  </tbody>\n",
       "</table>\n",
       "</div>"
      ],
      "text/plain": [
       "  grade  전체대상자  사전센싱대상자  이탈자수       이탈률\n",
       "3     4   1222    118.0     0  0.000000\n",
       "2     3   1601    211.0     5  0.003123\n",
       "1     2   1489    165.0    15  0.010074\n",
       "0     1   1288     24.0   162  0.125776"
      ]
     },
     "execution_count": 18,
     "metadata": {},
     "output_type": "execute_result"
    }
   ],
   "source": [
    "grade_df = df.groupby(['grade']).agg(전체대상자=('그룹','size'),\n",
    "                        사전센싱대상자=('사전센싱대상자', 'sum'),\n",
    "                        이탈자수=('y','sum'),\n",
    "                        이탈률=('y','mean'),\n",
    "                                      ).reset_index()\n",
    "grade_df.sort_values(by='grade',ascending=False)"
   ]
  },
  {
   "cell_type": "code",
   "execution_count": 19,
   "metadata": {},
   "outputs": [
    {
     "data": {
      "text/html": [
       "<div>\n",
       "<style scoped>\n",
       "    .dataframe tbody tr th:only-of-type {\n",
       "        vertical-align: middle;\n",
       "    }\n",
       "\n",
       "    .dataframe tbody tr th {\n",
       "        vertical-align: top;\n",
       "    }\n",
       "\n",
       "    .dataframe thead th {\n",
       "        text-align: right;\n",
       "    }\n",
       "</style>\n",
       "<table border=\"1\" class=\"dataframe\">\n",
       "  <thead>\n",
       "    <tr style=\"text-align: right;\">\n",
       "      <th></th>\n",
       "      <th>case</th>\n",
       "      <th>전체대상자</th>\n",
       "      <th>사전센싱대상자</th>\n",
       "      <th>이탈자수</th>\n",
       "      <th>이탈률</th>\n",
       "    </tr>\n",
       "  </thead>\n",
       "  <tbody>\n",
       "    <tr>\n",
       "      <th>0</th>\n",
       "      <td>1.0</td>\n",
       "      <td>1029</td>\n",
       "      <td>71.0</td>\n",
       "      <td>2</td>\n",
       "      <td>0.001944</td>\n",
       "    </tr>\n",
       "    <tr>\n",
       "      <th>1</th>\n",
       "      <td>2.0</td>\n",
       "      <td>1622</td>\n",
       "      <td>272.0</td>\n",
       "      <td>5</td>\n",
       "      <td>0.003083</td>\n",
       "    </tr>\n",
       "    <tr>\n",
       "      <th>2</th>\n",
       "      <td>3.0</td>\n",
       "      <td>60</td>\n",
       "      <td>4.0</td>\n",
       "      <td>0</td>\n",
       "      <td>0.000000</td>\n",
       "    </tr>\n",
       "    <tr>\n",
       "      <th>3</th>\n",
       "      <td>4.0</td>\n",
       "      <td>26</td>\n",
       "      <td>1.0</td>\n",
       "      <td>0</td>\n",
       "      <td>0.000000</td>\n",
       "    </tr>\n",
       "    <tr>\n",
       "      <th>4</th>\n",
       "      <td>5.0</td>\n",
       "      <td>1194</td>\n",
       "      <td>85.0</td>\n",
       "      <td>6</td>\n",
       "      <td>0.005025</td>\n",
       "    </tr>\n",
       "    <tr>\n",
       "      <th>5</th>\n",
       "      <td>6.0</td>\n",
       "      <td>6</td>\n",
       "      <td>2.0</td>\n",
       "      <td>0</td>\n",
       "      <td>0.000000</td>\n",
       "    </tr>\n",
       "    <tr>\n",
       "      <th>6</th>\n",
       "      <td>7.0</td>\n",
       "      <td>117</td>\n",
       "      <td>30.0</td>\n",
       "      <td>0</td>\n",
       "      <td>0.000000</td>\n",
       "    </tr>\n",
       "    <tr>\n",
       "      <th>7</th>\n",
       "      <td>8.0</td>\n",
       "      <td>1546</td>\n",
       "      <td>53.0</td>\n",
       "      <td>169</td>\n",
       "      <td>0.109314</td>\n",
       "    </tr>\n",
       "  </tbody>\n",
       "</table>\n",
       "</div>"
      ],
      "text/plain": [
       "   case  전체대상자  사전센싱대상자  이탈자수       이탈률\n",
       "0   1.0   1029     71.0     2  0.001944\n",
       "1   2.0   1622    272.0     5  0.003083\n",
       "2   3.0     60      4.0     0  0.000000\n",
       "3   4.0     26      1.0     0  0.000000\n",
       "4   5.0   1194     85.0     6  0.005025\n",
       "5   6.0      6      2.0     0  0.000000\n",
       "6   7.0    117     30.0     0  0.000000\n",
       "7   8.0   1546     53.0   169  0.109314"
      ]
     },
     "execution_count": 19,
     "metadata": {},
     "output_type": "execute_result"
    }
   ],
   "source": [
    "df.groupby(['case']).agg(전체대상자=('그룹','size'),\n",
    "                        사전센싱대상자=('사전센싱대상자', 'sum'),\n",
    "                        이탈자수=('y','sum'),\n",
    "                        이탈률=('y','mean'),\n",
    "                                      ).reset_index()"
   ]
  }
 ],
 "metadata": {
  "kernelspec": {
   "display_name": "Python 3",
   "language": "python",
   "name": "python3"
  },
  "language_info": {
   "codemirror_mode": {
    "name": "ipython",
    "version": 3
   },
   "file_extension": ".py",
   "mimetype": "text/x-python",
   "name": "python",
   "nbconvert_exporter": "python",
   "pygments_lexer": "ipython3",
   "version": "3.7.6"
  }
 },
 "nbformat": 4,
 "nbformat_minor": 4
}
