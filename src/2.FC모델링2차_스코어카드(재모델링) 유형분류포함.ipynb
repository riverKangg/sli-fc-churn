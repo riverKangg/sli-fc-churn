{
 "cells": [
  {
   "cell_type": "code",
   "execution_count": 1,
   "metadata": {},
   "outputs": [
    {
     "name": "stderr",
     "output_type": "stream",
     "text": [
      "/opt/conda/lib/python3.7/site-packages/sklearn/externals/joblib/__init__.py:15: FutureWarning: sklearn.externals.joblib is deprecated in 0.21 and will be removed in 0.23. Please import this functionality directly from joblib, which can be installed with: pip install joblib. If this warning is raised when loading pickled models, you may need to re-serialize those models with scikit-learn 0.21+.\n",
      "  warnings.warn(msg, category=FutureWarning)\n",
      "/opt/conda/lib/python3.7/site-packages/ipykernel_launcher.py:10: UserWarning: ignore\n",
      "  # Remove the CWD from sys.path while we load stuff.\n"
     ]
    }
   ],
   "source": [
    "import glob, os\n",
    "import pandas as pd\n",
    "import numpy as np\n",
    "import pickle\n",
    "\n",
    "from sklearn.externals import joblib\n",
    "import scorecardpy as sc\n",
    "\n",
    "import warnings\n",
    "warnings.warn('ignore')\n",
    "\n",
    "기준년월 = '2210'\n",
    "savename = '기본'"
   ]
  },
  {
   "cell_type": "code",
   "execution_count": 2,
   "metadata": {},
   "outputs": [],
   "source": [
    "data_oot = pd.read_csv('./input/INPUT_2_2209.csv', \n",
    "                    encoding = 'euc-kr',\n",
    "                   converters={'코드':str, '사업부':str})\n",
    "data_oot.columns = list(map(lambda x: x.replace('_2209',''), data_oot.columns))"
   ]
  },
  {
   "cell_type": "code",
   "execution_count": 3,
   "metadata": {},
   "outputs": [
    {
     "data": {
      "text/html": [
       "<div>\n",
       "<style scoped>\n",
       "    .dataframe tbody tr th:only-of-type {\n",
       "        vertical-align: middle;\n",
       "    }\n",
       "\n",
       "    .dataframe tbody tr th {\n",
       "        vertical-align: top;\n",
       "    }\n",
       "\n",
       "    .dataframe thead th {\n",
       "        text-align: right;\n",
       "    }\n",
       "</style>\n",
       "<table border=\"1\" class=\"dataframe\">\n",
       "  <thead>\n",
       "    <tr style=\"text-align: right;\">\n",
       "      <th></th>\n",
       "      <th>코드</th>\n",
       "      <th>위촉경로</th>\n",
       "      <th>y</th>\n",
       "      <th>귀점_당월</th>\n",
       "      <th>귀점_직3</th>\n",
       "      <th>조회_당월</th>\n",
       "      <th>조회_직3</th>\n",
       "      <th>상설_당월</th>\n",
       "      <th>상설_직3</th>\n",
       "      <th>사랑온_당월</th>\n",
       "      <th>...</th>\n",
       "      <th>통합보장_당월</th>\n",
       "      <th>통합보장_직3</th>\n",
       "      <th>환산_당월</th>\n",
       "      <th>환산_직3</th>\n",
       "      <th>가동1</th>\n",
       "      <th>가동2</th>\n",
       "      <th>유지</th>\n",
       "      <th>소득</th>\n",
       "      <th>소득분류</th>\n",
       "      <th>환산분류</th>\n",
       "    </tr>\n",
       "  </thead>\n",
       "  <tbody>\n",
       "    <tr>\n",
       "      <th>0</th>\n",
       "      <td>0001507864</td>\n",
       "      <td>경력</td>\n",
       "      <td>0</td>\n",
       "      <td>5.3</td>\n",
       "      <td>3.2</td>\n",
       "      <td>52.6</td>\n",
       "      <td>28.6</td>\n",
       "      <td>2</td>\n",
       "      <td>3.7</td>\n",
       "      <td>51.6</td>\n",
       "      <td>...</td>\n",
       "      <td>9</td>\n",
       "      <td>15.7</td>\n",
       "      <td>306182</td>\n",
       "      <td>222215.33333</td>\n",
       "      <td>0</td>\n",
       "      <td>0</td>\n",
       "      <td>0</td>\n",
       "      <td>264.484</td>\n",
       "      <td>1_15이상</td>\n",
       "      <td>1_15이상</td>\n",
       "    </tr>\n",
       "  </tbody>\n",
       "</table>\n",
       "<p>1 rows × 23 columns</p>\n",
       "</div>"
      ],
      "text/plain": [
       "           코드 위촉경로  y  귀점_당월  귀점_직3  조회_당월  조회_직3  상설_당월  상설_직3  사랑온_당월  ...  \\\n",
       "0  0001507864   경력  0    5.3    3.2   52.6   28.6      2    3.7    51.6  ...   \n",
       "\n",
       "   통합보장_당월  통합보장_직3   환산_당월         환산_직3  가동1  가동2  유지       소득    소득분류  \\\n",
       "0        9     15.7  306182  222215.33333    0    0   0  264.484  1_15이상   \n",
       "\n",
       "     환산분류  \n",
       "0  1_15이상  \n",
       "\n",
       "[1 rows x 23 columns]"
      ]
     },
     "execution_count": 3,
     "metadata": {},
     "output_type": "execute_result"
    }
   ],
   "source": [
    "# 직3은 직전3개월비 평균 숫자로 들어가야함\n",
    "# input_2_ : 환산_직3이 낙폭으로 들어감\n",
    "# input_3_ : 환산_직3이 직3 숫자로 들어감\n",
    "data = pd.read_csv('./input/INPUT_3_2210.csv', \n",
    "                    encoding = 'euc-kr',\n",
    "                   converters={'코드':str, '사업부':str})\n",
    "data.columns = list(map(lambda x: x.replace('_2210',''), data.columns))\n",
    "data.head(1)"
   ]
  },
  {
   "cell_type": "code",
   "execution_count": 4,
   "metadata": {},
   "outputs": [],
   "source": [
    "lst = ['귀점','조회','상설','총동의','사랑온','통합보장','환산']\n",
    "for l in lst:\n",
    "    data[f'{l}_직3P'] = data[f'{l}_당월'] - data[f'{l}_직3']\n",
    "    data_oot[f'{l}_직3P'] = data_oot[f'{l}_당월'] - data_oot[f'{l}_직3']"
   ]
  },
  {
   "cell_type": "code",
   "execution_count": 5,
   "metadata": {},
   "outputs": [],
   "source": [
    "#간소화\n",
    "# lst = ['y',\n",
    "#        '귀점_당월', '상설_당월', '총동의_당월', '사랑온_당월', '통합보장_당월', \n",
    "#         '조회_직3P', '환산_당월'\n",
    "#       ]"
   ]
  },
  {
   "cell_type": "code",
   "execution_count": 6,
   "metadata": {},
   "outputs": [],
   "source": [
    "#기본\n",
    "lst = ['y',\n",
    "       '귀점_당월', '상설_당월', '총동의_당월', '사랑온_당월', '통합보장_당월', \n",
    "        '조회_직3P', '환산_당월'\n",
    "      ,'사랑온_직3P', '상설_직3P', '총동의_직3P','통합보장_직3P','조회_당월'\n",
    "       ,'유지'\n",
    "      ]\n",
    "# ,'귀점_직3P', 사랑온_직3P, '소득'"
   ]
  },
  {
   "cell_type": "code",
   "execution_count": 7,
   "metadata": {},
   "outputs": [
    {
     "name": "stdout",
     "output_type": "stream",
     "text": [
      "[INFO] filtering variables ...\n",
      "[INFO] filtering variables ...\n"
     ]
    }
   ],
   "source": [
    "data_iv = data[lst]\n",
    "oot_iv = data_oot[lst]\n",
    "\n",
    "dt_s = sc.var_filter(data_iv, y='y')\n",
    "train, test = sc.split_df(dt_s, 'y').values()\n",
    "\n",
    "oot = sc.var_filter(oot_iv, y='y')"
   ]
  },
  {
   "cell_type": "code",
   "execution_count": 8,
   "metadata": {},
   "outputs": [
    {
     "name": "stdout",
     "output_type": "stream",
     "text": [
      "[INFO] creating woe binning ...\n"
     ]
    }
   ],
   "source": [
    "# bins = sc.woebin(dt_s, y = 'y', spl_val=[np.inf])\n",
    "# sc.woebin_plot(bins)\n",
    "\n",
    "\n",
    "# bin 수정\n",
    "breaks_adj = {\n",
    "    '환산_당월': [0,1,150000,300000,450000]\n",
    "}\n",
    "bins_adj = sc.woebin(dt_s, y=\"y\", breaks_list=breaks_adj)\n",
    "\n",
    "# 수정 없을때\n",
    "# bins_adj = bins"
   ]
  },
  {
   "cell_type": "code",
   "execution_count": 9,
   "metadata": {
    "scrolled": false
   },
   "outputs": [
    {
     "name": "stdout",
     "output_type": "stream",
     "text": [
      "(55, 12)\n"
     ]
    }
   ],
   "source": [
    "# woeiv값 저장\n",
    "\n",
    "df = pd.DataFrame(columns=['variable', 'bin', 'count', 'count_distr', 'good', 'bad', 'badprob'\n",
    "                           ,'woe', 'bin_iv', 'total_iv', 'breaks', 'is_special_values'])\n",
    "\n",
    "for k in sorted(bins_adj.keys()):\n",
    "    tmp = bins_adj[k]\n",
    "    df = df.append(tmp)\n",
    "         \n",
    "print(df.shape)"
   ]
  },
  {
   "cell_type": "code",
   "execution_count": 10,
   "metadata": {},
   "outputs": [
    {
     "name": "stdout",
     "output_type": "stream",
     "text": [
      "[INFO] converting into woe values ...\n",
      "[INFO] converting into woe values ...\n",
      "[INFO] converting into woe values ...\n"
     ]
    }
   ],
   "source": [
    "train_woe = sc.woebin_ply(train, bins_adj)\n",
    "test_woe = sc.woebin_ply(test, bins_adj)\n",
    "oot_woe = sc.woebin_ply(oot, bins_adj)\n",
    "\n",
    "y_train = train_woe.loc[:,'y']\n",
    "X_train = train_woe.loc[:,train_woe.columns != 'y']\n",
    "y_test = test_woe.loc[:,'y']\n",
    "X_test = test_woe.loc[:,train_woe.columns != 'y']\n",
    "\n",
    "y_oot = oot_woe.loc[:,'y']\n",
    "X_oot = oot_woe.loc[:,oot_woe.columns != 'y']"
   ]
  },
  {
   "cell_type": "code",
   "execution_count": 11,
   "metadata": {},
   "outputs": [
    {
     "data": {
      "text/plain": [
       "72.13475204444818"
      ]
     },
     "execution_count": 11,
     "metadata": {},
     "output_type": "execute_result"
    }
   ],
   "source": [
    "b = 50/np.log(2)\n",
    "b"
   ]
  },
  {
   "cell_type": "code",
   "execution_count": 12,
   "metadata": {},
   "outputs": [
    {
     "data": {
      "text/plain": [
       "6.773962498900216"
      ]
     },
     "execution_count": 12,
     "metadata": {},
     "output_type": "execute_result"
    }
   ],
   "source": [
    "1/np.exp((462-600)/b)"
   ]
  },
  {
   "cell_type": "code",
   "execution_count": 13,
   "metadata": {},
   "outputs": [],
   "source": [
    "odds0 = 1/19"
   ]
  },
  {
   "cell_type": "code",
   "execution_count": 14,
   "metadata": {},
   "outputs": [
    {
     "data": {
      "text/plain": [
       "391.5037499278843"
      ]
     },
     "execution_count": 14,
     "metadata": {},
     "output_type": "execute_result"
    }
   ],
   "source": [
    "600 + b*np.log(odds0/(1-odds0))"
   ]
  },
  {
   "cell_type": "code",
   "execution_count": 15,
   "metadata": {},
   "outputs": [],
   "source": [
    "# with open('./result2차/bins_adj.pickle', 'wb') as f:\n",
    "#     pickle.dump(bins_adj,f)\n",
    "\n",
    "# with open(f\"./result2차/최종모델.pkl\",\"wb\") as f:\n",
    "#     pickle.dump(lr,f) \n",
    "\n",
    "# with open('./result2차/card.pickle', 'wb') as f:\n",
    "#     pickle.dump(card,f)"
   ]
  },
  {
   "cell_type": "code",
   "execution_count": 16,
   "metadata": {},
   "outputs": [],
   "source": [
    "# import pickle\n",
    "# with open(f\"./result2차/최종모델.pkl\",\"r\") as f:\n",
    "#     lr_re = pickle.read(f) "
   ]
  },
  {
   "cell_type": "code",
   "execution_count": 13,
   "metadata": {},
   "outputs": [
    {
     "data": {
      "text/plain": [
       "array([0.05990594, 0.24725607, 0.15372379, ..., 0.12694937, 0.58225529,\n",
       "       0.04066847])"
      ]
     },
     "execution_count": 13,
     "metadata": {},
     "output_type": "execute_result"
    }
   ],
   "source": [
    "oot_pred"
   ]
  },
  {
   "cell_type": "code",
   "execution_count": 14,
   "metadata": {},
   "outputs": [
    {
     "data": {
      "text/html": [
       "<div>\n",
       "<style scoped>\n",
       "    .dataframe tbody tr th:only-of-type {\n",
       "        vertical-align: middle;\n",
       "    }\n",
       "\n",
       "    .dataframe tbody tr th {\n",
       "        vertical-align: top;\n",
       "    }\n",
       "\n",
       "    .dataframe thead th {\n",
       "        text-align: right;\n",
       "    }\n",
       "</style>\n",
       "<table border=\"1\" class=\"dataframe\">\n",
       "  <thead>\n",
       "    <tr style=\"text-align: right;\">\n",
       "      <th></th>\n",
       "      <th>score</th>\n",
       "      <th>pred</th>\n",
       "    </tr>\n",
       "  </thead>\n",
       "  <tbody>\n",
       "    <tr>\n",
       "      <th>0</th>\n",
       "      <td>587.0</td>\n",
       "      <td>0.059906</td>\n",
       "    </tr>\n",
       "    <tr>\n",
       "      <th>1</th>\n",
       "      <td>470.0</td>\n",
       "      <td>0.247256</td>\n",
       "    </tr>\n",
       "    <tr>\n",
       "      <th>2</th>\n",
       "      <td>512.0</td>\n",
       "      <td>0.153724</td>\n",
       "    </tr>\n",
       "    <tr>\n",
       "      <th>3</th>\n",
       "      <td>596.0</td>\n",
       "      <td>0.052733</td>\n",
       "    </tr>\n",
       "    <tr>\n",
       "      <th>4</th>\n",
       "      <td>396.0</td>\n",
       "      <td>0.475524</td>\n",
       "    </tr>\n",
       "    <tr>\n",
       "      <th>...</th>\n",
       "      <td>...</td>\n",
       "      <td>...</td>\n",
       "    </tr>\n",
       "    <tr>\n",
       "      <th>5315</th>\n",
       "      <td>498.0</td>\n",
       "      <td>0.179314</td>\n",
       "    </tr>\n",
       "    <tr>\n",
       "      <th>5316</th>\n",
       "      <td>526.0</td>\n",
       "      <td>0.131697</td>\n",
       "    </tr>\n",
       "    <tr>\n",
       "      <th>5317</th>\n",
       "      <td>527.0</td>\n",
       "      <td>0.126949</td>\n",
       "    </tr>\n",
       "    <tr>\n",
       "      <th>5318</th>\n",
       "      <td>365.0</td>\n",
       "      <td>0.582255</td>\n",
       "    </tr>\n",
       "    <tr>\n",
       "      <th>5319</th>\n",
       "      <td>617.0</td>\n",
       "      <td>0.040668</td>\n",
       "    </tr>\n",
       "  </tbody>\n",
       "</table>\n",
       "<p>5320 rows × 2 columns</p>\n",
       "</div>"
      ],
      "text/plain": [
       "      score      pred\n",
       "0     587.0  0.059906\n",
       "1     470.0  0.247256\n",
       "2     512.0  0.153724\n",
       "3     596.0  0.052733\n",
       "4     396.0  0.475524\n",
       "...     ...       ...\n",
       "5315  498.0  0.179314\n",
       "5316  526.0  0.131697\n",
       "5317  527.0  0.126949\n",
       "5318  365.0  0.582255\n",
       "5319  617.0  0.040668\n",
       "\n",
       "[5320 rows x 2 columns]"
      ]
     },
     "execution_count": 14,
     "metadata": {},
     "output_type": "execute_result"
    }
   ],
   "source": [
    "d = oot_score\n",
    "d['pred'] = oot_pred\n",
    "d"
   ]
  },
  {
   "cell_type": "code",
   "execution_count": 22,
   "metadata": {},
   "outputs": [],
   "source": [
    "d = d.sort_values(by='pred')\n",
    "d['rank_pred'] = list(range(1,len(d)+1))\n",
    "d = d.sort_values(by=['score','pred'],ascending=[False,True])\n",
    "d['rank_score'] = list(range(1,len(d)+1))"
   ]
  },
  {
   "cell_type": "code",
   "execution_count": 24,
   "metadata": {},
   "outputs": [],
   "source": [
    "d.to_csv('d.csv',encoding='utf-8-sig')"
   ]
  },
  {
   "cell_type": "code",
   "execution_count": 23,
   "metadata": {},
   "outputs": [
    {
     "data": {
      "text/html": [
       "<div>\n",
       "<style scoped>\n",
       "    .dataframe tbody tr th:only-of-type {\n",
       "        vertical-align: middle;\n",
       "    }\n",
       "\n",
       "    .dataframe tbody tr th {\n",
       "        vertical-align: top;\n",
       "    }\n",
       "\n",
       "    .dataframe thead th {\n",
       "        text-align: right;\n",
       "    }\n",
       "</style>\n",
       "<table border=\"1\" class=\"dataframe\">\n",
       "  <thead>\n",
       "    <tr style=\"text-align: right;\">\n",
       "      <th></th>\n",
       "      <th>score</th>\n",
       "      <th>pred</th>\n",
       "      <th>rank_pred</th>\n",
       "      <th>rank_score</th>\n",
       "    </tr>\n",
       "  </thead>\n",
       "  <tbody>\n",
       "    <tr>\n",
       "      <th>3101</th>\n",
       "      <td>716.0</td>\n",
       "      <td>0.010647</td>\n",
       "      <td>41</td>\n",
       "      <td>40</td>\n",
       "    </tr>\n",
       "    <tr>\n",
       "      <th>5071</th>\n",
       "      <td>716.0</td>\n",
       "      <td>0.010672</td>\n",
       "      <td>42</td>\n",
       "      <td>41</td>\n",
       "    </tr>\n",
       "    <tr>\n",
       "      <th>1639</th>\n",
       "      <td>715.0</td>\n",
       "      <td>0.010595</td>\n",
       "      <td>40</td>\n",
       "      <td>42</td>\n",
       "    </tr>\n",
       "    <tr>\n",
       "      <th>902</th>\n",
       "      <td>714.0</td>\n",
       "      <td>0.010956</td>\n",
       "      <td>46</td>\n",
       "      <td>45</td>\n",
       "    </tr>\n",
       "    <tr>\n",
       "      <th>382</th>\n",
       "      <td>713.0</td>\n",
       "      <td>0.010945</td>\n",
       "      <td>45</td>\n",
       "      <td>46</td>\n",
       "    </tr>\n",
       "    <tr>\n",
       "      <th>...</th>\n",
       "      <td>...</td>\n",
       "      <td>...</td>\n",
       "      <td>...</td>\n",
       "      <td>...</td>\n",
       "    </tr>\n",
       "    <tr>\n",
       "      <th>5129</th>\n",
       "      <td>267.0</td>\n",
       "      <td>0.844389</td>\n",
       "      <td>5312</td>\n",
       "      <td>5309</td>\n",
       "    </tr>\n",
       "    <tr>\n",
       "      <th>5284</th>\n",
       "      <td>267.0</td>\n",
       "      <td>0.844389</td>\n",
       "      <td>5313</td>\n",
       "      <td>5310</td>\n",
       "    </tr>\n",
       "    <tr>\n",
       "      <th>5141</th>\n",
       "      <td>266.0</td>\n",
       "      <td>0.843272</td>\n",
       "      <td>5306</td>\n",
       "      <td>5311</td>\n",
       "    </tr>\n",
       "    <tr>\n",
       "      <th>4972</th>\n",
       "      <td>266.0</td>\n",
       "      <td>0.843272</td>\n",
       "      <td>5307</td>\n",
       "      <td>5312</td>\n",
       "    </tr>\n",
       "    <tr>\n",
       "      <th>3664</th>\n",
       "      <td>266.0</td>\n",
       "      <td>0.843272</td>\n",
       "      <td>5308</td>\n",
       "      <td>5313</td>\n",
       "    </tr>\n",
       "  </tbody>\n",
       "</table>\n",
       "<p>4348 rows × 4 columns</p>\n",
       "</div>"
      ],
      "text/plain": [
       "      score      pred  rank_pred  rank_score\n",
       "3101  716.0  0.010647         41          40\n",
       "5071  716.0  0.010672         42          41\n",
       "1639  715.0  0.010595         40          42\n",
       "902   714.0  0.010956         46          45\n",
       "382   713.0  0.010945         45          46\n",
       "...     ...       ...        ...         ...\n",
       "5129  267.0  0.844389       5312        5309\n",
       "5284  267.0  0.844389       5313        5310\n",
       "5141  266.0  0.843272       5306        5311\n",
       "4972  266.0  0.843272       5307        5312\n",
       "3664  266.0  0.843272       5308        5313\n",
       "\n",
       "[4348 rows x 4 columns]"
      ]
     },
     "execution_count": 23,
     "metadata": {},
     "output_type": "execute_result"
    }
   ],
   "source": [
    "d[d.rank_pred!=d.rank_score]"
   ]
  },
  {
   "cell_type": "code",
   "execution_count": 11,
   "metadata": {
    "scrolled": false
   },
   "outputs": [
    {
     "name": "stdout",
     "output_type": "stream",
     "text": [
      "[-1.03883819] [[-0.32422769  0.12443028  0.17554388  0.22459988 -0.08078543  0.41845256\n",
      "   0.27167928  0.21092759 -0.11629197  0.1506075   0.14236198  0.12728335\n",
      "   0.00909303]]\n"
     ]
    },
    {
     "data": {
      "image/png": "[encoded data removed]",
      "text/plain": [
       "<Figure size 432x288 with 2 Axes>"
      ]
     },
     "metadata": {
      "needs_background": "light"
     },
     "output_type": "display_data"
    },
    {
     "data": {
      "image/png": "[encoded data removed]",
      "text/plain": [
       "<Figure size 432x288 with 2 Axes>"
      ]
     },
     "metadata": {
      "needs_background": "light"
     },
     "output_type": "display_data"
    },
    {
     "data": {
      "image/png": "[encoded data removed]",
      "text/plain": [
       "<Figure size 432x288 with 2 Axes>"
      ]
     },
     "metadata": {
      "needs_background": "light"
     },
     "output_type": "display_data"
    },
    {
     "data": {
      "image/png": "[encoded data removed]",
      "text/plain": [
       "<Figure size 432x288 with 2 Axes>"
      ]
     },
     "metadata": {
      "needs_background": "light"
     },
     "output_type": "display_data"
    },
    {
     "data": {
      "image/png": "[encoded data removed]",
      "text/plain": [
       "<Figure size 432x288 with 2 Axes>"
      ]
     },
     "metadata": {
      "needs_background": "light"
     },
     "output_type": "display_data"
    },
    {
     "data": {
      "text/plain": [
       "{'psi':   variable       PSI\n",
       " 0    score  0.003414,\n",
       " 'pic': {'score': <Figure size 432x288 with 2 Axes>}}"
      ]
     },
     "execution_count": 11,
     "metadata": {},
     "output_type": "execute_result"
    }
   ],
   "source": [
    "# logistic regression ------\n",
    "from sklearn.linear_model import LogisticRegression\n",
    "lr = LogisticRegression(penalty='l1', C=0.9, solver='saga', n_jobs=-1, random_state=42)\n",
    "lr.fit(X_train, y_train)\n",
    "print(lr.intercept_, lr.coef_)\n",
    "\n",
    "# predicted proability\n",
    "train_pred = lr.predict_proba(X_train)[:,1]\n",
    "test_pred = lr.predict_proba(X_test)[:,1]\n",
    "oot_pred = lr.predict_proba(X_oot)[:,1]\n",
    "\n",
    "# performance ks & roc ------\n",
    "train_perf = sc.perf_eva(y_train, train_pred, title = \"train\")\n",
    "test_perf = sc.perf_eva(y_test, test_pred, title = \"test\")\n",
    "oot_perf = sc.perf_eva(y_oot, oot_pred, title = \"oot\")\n",
    "\n",
    "# score ------\n",
    "card = sc.scorecard(bins_adj, lr, X_train.columns)\n",
    "# credit score\n",
    "train_score = sc.scorecard_ply(train, card, print_step=0)\n",
    "test_score = sc.scorecard_ply(test, card, print_step=0)\n",
    "oot_score = sc.scorecard_ply(oot, card, print_step=0)\n",
    "\n",
    "# psi\n",
    "sc.perf_psi(\n",
    "  score = {'train':train_score, 'test':test_score},\n",
    "  label = {'train':y_train, 'test':y_test}\n",
    ")\n",
    "\n",
    "sc.perf_psi(\n",
    "  score = {'test':test_score, 'oot':oot_score},\n",
    "  label = {'test':y_test, 'oot':y_oot}\n",
    ")"
   ]
  },
  {
   "cell_type": "code",
   "execution_count": 18,
   "metadata": {},
   "outputs": [
    {
     "data": {
      "text/html": [
       "<div>\n",
       "<style scoped>\n",
       "    .dataframe tbody tr th:only-of-type {\n",
       "        vertical-align: middle;\n",
       "    }\n",
       "\n",
       "    .dataframe tbody tr th {\n",
       "        vertical-align: top;\n",
       "    }\n",
       "\n",
       "    .dataframe thead th {\n",
       "        text-align: right;\n",
       "    }\n",
       "</style>\n",
       "<table border=\"1\" class=\"dataframe\">\n",
       "  <thead>\n",
       "    <tr style=\"text-align: right;\">\n",
       "      <th></th>\n",
       "      <th>val</th>\n",
       "      <th>coef</th>\n",
       "    </tr>\n",
       "  </thead>\n",
       "  <tbody>\n",
       "    <tr>\n",
       "      <th>0</th>\n",
       "      <td>유지_woe</td>\n",
       "      <td>0.090662</td>\n",
       "    </tr>\n",
       "    <tr>\n",
       "      <th>1</th>\n",
       "      <td>조회_당월_woe</td>\n",
       "      <td>0.076812</td>\n",
       "    </tr>\n",
       "    <tr>\n",
       "      <th>2</th>\n",
       "      <td>귀점_직3P_woe</td>\n",
       "      <td>-0.018672</td>\n",
       "    </tr>\n",
       "    <tr>\n",
       "      <th>3</th>\n",
       "      <td>통합보장_직3P_woe</td>\n",
       "      <td>-0.283424</td>\n",
       "    </tr>\n",
       "    <tr>\n",
       "      <th>4</th>\n",
       "      <td>조회_직3P_woe</td>\n",
       "      <td>0.141140</td>\n",
       "    </tr>\n",
       "    <tr>\n",
       "      <th>5</th>\n",
       "      <td>귀점_당월_woe</td>\n",
       "      <td>0.149800</td>\n",
       "    </tr>\n",
       "    <tr>\n",
       "      <th>6</th>\n",
       "      <td>소득_woe</td>\n",
       "      <td>0.914338</td>\n",
       "    </tr>\n",
       "    <tr>\n",
       "      <th>7</th>\n",
       "      <td>총동의_당월_woe</td>\n",
       "      <td>0.231612</td>\n",
       "    </tr>\n",
       "    <tr>\n",
       "      <th>8</th>\n",
       "      <td>사랑온_직3P_woe</td>\n",
       "      <td>-0.159814</td>\n",
       "    </tr>\n",
       "    <tr>\n",
       "      <th>9</th>\n",
       "      <td>환산_당월_woe</td>\n",
       "      <td>0.392395</td>\n",
       "    </tr>\n",
       "    <tr>\n",
       "      <th>10</th>\n",
       "      <td>상설_직3P_woe</td>\n",
       "      <td>0.165101</td>\n",
       "    </tr>\n",
       "    <tr>\n",
       "      <th>11</th>\n",
       "      <td>총동의_직3P_woe</td>\n",
       "      <td>-0.117158</td>\n",
       "    </tr>\n",
       "    <tr>\n",
       "      <th>12</th>\n",
       "      <td>통합보장_당월_woe</td>\n",
       "      <td>0.165993</td>\n",
       "    </tr>\n",
       "    <tr>\n",
       "      <th>13</th>\n",
       "      <td>상설_당월_woe</td>\n",
       "      <td>0.130121</td>\n",
       "    </tr>\n",
       "    <tr>\n",
       "      <th>14</th>\n",
       "      <td>사랑온_당월_woe</td>\n",
       "      <td>0.266385</td>\n",
       "    </tr>\n",
       "  </tbody>\n",
       "</table>\n",
       "</div>"
      ],
      "text/plain": [
       "             val      coef\n",
       "0         유지_woe  0.090662\n",
       "1      조회_당월_woe  0.076812\n",
       "2     귀점_직3P_woe -0.018672\n",
       "3   통합보장_직3P_woe -0.283424\n",
       "4     조회_직3P_woe  0.141140\n",
       "5      귀점_당월_woe  0.149800\n",
       "6         소득_woe  0.914338\n",
       "7     총동의_당월_woe  0.231612\n",
       "8    사랑온_직3P_woe -0.159814\n",
       "9      환산_당월_woe  0.392395\n",
       "10    상설_직3P_woe  0.165101\n",
       "11   총동의_직3P_woe -0.117158\n",
       "12   통합보장_당월_woe  0.165993\n",
       "13     상설_당월_woe  0.130121\n",
       "14    사랑온_당월_woe  0.266385"
      ]
     },
     "execution_count": 18,
     "metadata": {},
     "output_type": "execute_result"
    }
   ],
   "source": [
    "df_coef = pd.DataFrame()\n",
    "df_coef['val']=list(X_train.columns)\n",
    "df_coef['coef'] = list(lr.coef_[0])\n",
    "df_coef"
   ]
  },
  {
   "cell_type": "code",
   "execution_count": 19,
   "metadata": {},
   "outputs": [],
   "source": [
    "### woe + point 저장 ----------------\n",
    "\n",
    "card_df = pd.DataFrame()\n",
    "for k in card.keys():\n",
    "    tmp = card[k]\n",
    "    if len(card_df) == 0:\n",
    "        card_df = tmp\n",
    "    else:\n",
    "        card_df = card_df.append(tmp)\n",
    "\n",
    "woe_point = df.merge(card_df, on=['variable','bin'], how='outer')\n",
    "# "
   ]
  },
  {
   "cell_type": "code",
   "execution_count": 20,
   "metadata": {},
   "outputs": [],
   "source": [
    "woe_point.to_csv(f'./1_woepoint_tmp_직3P_.csv', index=False, encoding='utf-8-sig')"
   ]
  },
  {
   "cell_type": "code",
   "execution_count": 21,
   "metadata": {},
   "outputs": [],
   "source": [
    "# tot_score = train_score.append(test_score).sort_index()"
   ]
  },
  {
   "cell_type": "code",
   "execution_count": 22,
   "metadata": {},
   "outputs": [
    {
     "data": {
      "text/plain": [
       "True"
      ]
     },
     "execution_count": 22,
     "metadata": {},
     "output_type": "execute_result"
    }
   ],
   "source": [
    "import math\n",
    "1/(1+math.exp(-1*(sum(X_train.iloc[0]* lr.coef_[0]) + lr.intercept_)))  == train_pred[0]"
   ]
  },
  {
   "cell_type": "markdown",
   "metadata": {},
   "source": [
    "--- \n",
    "## 결과저장"
   ]
  },
  {
   "cell_type": "code",
   "execution_count": 23,
   "metadata": {},
   "outputs": [],
   "source": [
    "# with open(f'./result2차/bins_adj_{savename}.pickle', 'wb') as f:\n",
    "#     pickle.dump(bins_adj,f)\n",
    "\n",
    "# with open(f\"./result2차/model_{savename}.pkl\",\"wb\") as f:\n",
    "#     pickle.dump(lr,f) \n",
    "\n",
    "# with open(f'./result2차/card_{savename}.pickle', 'wb') as f:\n",
    "#     pickle.dump(card,f)\n",
    "    \n",
    "# woe_point.to_csv(f'./result2차/1_woepoint_{savename}.csv', index=False, encoding='utf-8-sig')"
   ]
  },
  {
   "cell_type": "markdown",
   "metadata": {},
   "source": [
    "---"
   ]
  },
  {
   "cell_type": "code",
   "execution_count": 23,
   "metadata": {},
   "outputs": [],
   "source": [
    "woe_all = pd.concat([X_train,X_test]).sort_index()\n",
    "input_all = pd.concat([train,test]).sort_index()\n",
    "point_all = sc.scorecard_ply(input_all, card, print_step=0, only_total_score=False)"
   ]
  },
  {
   "cell_type": "code",
   "execution_count": 24,
   "metadata": {},
   "outputs": [],
   "source": [
    "data_all = data.join(woe_all,how='left').join(point_all,how='left')\n",
    "cols = data_all.columns\n",
    "cols2 = ['코드', '위촉경로', 'y', 'score'] + sorted(list(set(cols)- set(['코드', '위촉경로', 'y', 'score'])))\n",
    "data_all = data_all[cols2]"
   ]
  },
  {
   "cell_type": "code",
   "execution_count": 25,
   "metadata": {},
   "outputs": [],
   "source": [
    "grade_lst = []\n",
    "n = len(data_all)//10\n",
    "for i in range(10):\n",
    "    grade_lst += [i+1]*n\n",
    "grade_lst += [10]*(len(data_all)-len(grade_lst))\n",
    "\n",
    "grade_lst2 = []\n",
    "n2 = len(data_all)//5\n",
    "for i in range(5):\n",
    "    grade_lst2 += [i+1]*n2\n",
    "grade_lst2 += [5]*(len(data_all)-len(grade_lst2))\n",
    "\n",
    "data_all = data_all.sort_values(by='score',ascending=False).reset_index(drop=True)\n",
    "data_all['grade'] = grade_lst\n",
    "data_all['grade2'] = grade_lst2"
   ]
  },
  {
   "cell_type": "code",
   "execution_count": 26,
   "metadata": {},
   "outputs": [
    {
     "data": {
      "text/plain": [
       "grade\n",
       "1      1.27\n",
       "2      1.45\n",
       "3      4.71\n",
       "4      6.52\n",
       "5     11.05\n",
       "6     15.40\n",
       "7     25.18\n",
       "8     45.29\n",
       "9     72.46\n",
       "10    76.27\n",
       "Name: y, dtype: float64"
      ]
     },
     "execution_count": 26,
     "metadata": {},
     "output_type": "execute_result"
    }
   ],
   "source": [
    "round(data_all.groupby('grade').y.mean()*100, 2)"
   ]
  },
  {
   "cell_type": "code",
   "execution_count": 27,
   "metadata": {},
   "outputs": [
    {
     "data": {
      "text/plain": [
       "grade2\n",
       "1     1.36\n",
       "2     5.62\n",
       "3    13.22\n",
       "4    35.24\n",
       "5    74.37\n",
       "Name: y, dtype: float64"
      ]
     },
     "execution_count": 27,
     "metadata": {},
     "output_type": "execute_result"
    }
   ],
   "source": [
    "round(data_all.groupby('grade2').y.mean()*100, 2)"
   ]
  },
  {
   "cell_type": "markdown",
   "metadata": {},
   "source": [
    "###"
   ]
  },
  {
   "cell_type": "code",
   "execution_count": 28,
   "metadata": {},
   "outputs": [
    {
     "data": {
      "text/plain": [
       "grade2\n",
       "1    619.0\n",
       "2    567.0\n",
       "3    495.0\n",
       "4    365.0\n",
       "5    279.0\n",
       "Name: score, dtype: float64"
      ]
     },
     "execution_count": 28,
     "metadata": {},
     "output_type": "execute_result"
    }
   ],
   "source": [
    "data_all.groupby('grade2').score.min()"
   ]
  },
  {
   "cell_type": "code",
   "execution_count": 29,
   "metadata": {},
   "outputs": [
    {
     "data": {
      "text/html": [
       "<div>\n",
       "<style scoped>\n",
       "    .dataframe tbody tr th:only-of-type {\n",
       "        vertical-align: middle;\n",
       "    }\n",
       "\n",
       "    .dataframe tbody tr th {\n",
       "        vertical-align: top;\n",
       "    }\n",
       "\n",
       "    .dataframe thead th {\n",
       "        text-align: right;\n",
       "    }\n",
       "</style>\n",
       "<table border=\"1\" class=\"dataframe\">\n",
       "  <thead>\n",
       "    <tr style=\"text-align: right;\">\n",
       "      <th></th>\n",
       "      <th>y</th>\n",
       "      <th>score</th>\n",
       "      <th>가동1</th>\n",
       "      <th>가동2</th>\n",
       "      <th>귀점_당월</th>\n",
       "      <th>귀점_당월_points</th>\n",
       "      <th>귀점_당월_woe</th>\n",
       "      <th>귀점_직3</th>\n",
       "      <th>귀점_직3P</th>\n",
       "      <th>사랑온_당월</th>\n",
       "      <th>...</th>\n",
       "      <th>통합보장_당월_points</th>\n",
       "      <th>통합보장_당월_woe</th>\n",
       "      <th>통합보장_직3</th>\n",
       "      <th>통합보장_직3P</th>\n",
       "      <th>환산_당월</th>\n",
       "      <th>환산_당월_points</th>\n",
       "      <th>환산_당월_woe</th>\n",
       "      <th>환산_직3</th>\n",
       "      <th>환산_직3P</th>\n",
       "      <th>grade</th>\n",
       "    </tr>\n",
       "    <tr>\n",
       "      <th>grade2</th>\n",
       "      <th></th>\n",
       "      <th></th>\n",
       "      <th></th>\n",
       "      <th></th>\n",
       "      <th></th>\n",
       "      <th></th>\n",
       "      <th></th>\n",
       "      <th></th>\n",
       "      <th></th>\n",
       "      <th></th>\n",
       "      <th></th>\n",
       "      <th></th>\n",
       "      <th></th>\n",
       "      <th></th>\n",
       "      <th></th>\n",
       "      <th></th>\n",
       "      <th></th>\n",
       "      <th></th>\n",
       "      <th></th>\n",
       "      <th></th>\n",
       "      <th></th>\n",
       "    </tr>\n",
       "  </thead>\n",
       "  <tbody>\n",
       "    <tr>\n",
       "      <th>1</th>\n",
       "      <td>0.013587</td>\n",
       "      <td>652.874094</td>\n",
       "      <td>0.188406</td>\n",
       "      <td>0.120471</td>\n",
       "      <td>63.450543</td>\n",
       "      <td>15.177536</td>\n",
       "      <td>-1.671849</td>\n",
       "      <td>57.196739</td>\n",
       "      <td>6.253804</td>\n",
       "      <td>52.578533</td>\n",
       "      <td>...</td>\n",
       "      <td>17.305254</td>\n",
       "      <td>-1.762735</td>\n",
       "      <td>42.456612</td>\n",
       "      <td>-4.271830</td>\n",
       "      <td>642772.934783</td>\n",
       "      <td>67.586957</td>\n",
       "      <td>-2.232414</td>\n",
       "      <td>611257.571558</td>\n",
       "      <td>31515.363225</td>\n",
       "      <td>1.5</td>\n",
       "    </tr>\n",
       "    <tr>\n",
       "      <th>2</th>\n",
       "      <td>0.056159</td>\n",
       "      <td>592.667572</td>\n",
       "      <td>0.250000</td>\n",
       "      <td>0.236413</td>\n",
       "      <td>45.058605</td>\n",
       "      <td>9.832428</td>\n",
       "      <td>-1.075615</td>\n",
       "      <td>43.224909</td>\n",
       "      <td>1.833696</td>\n",
       "      <td>40.357699</td>\n",
       "      <td>...</td>\n",
       "      <td>14.934783</td>\n",
       "      <td>-1.511956</td>\n",
       "      <td>32.592391</td>\n",
       "      <td>-5.116848</td>\n",
       "      <td>401324.868659</td>\n",
       "      <td>42.608696</td>\n",
       "      <td>-1.414457</td>\n",
       "      <td>437508.866546</td>\n",
       "      <td>-36183.997886</td>\n",
       "      <td>3.5</td>\n",
       "    </tr>\n",
       "    <tr>\n",
       "      <th>3</th>\n",
       "      <td>0.132246</td>\n",
       "      <td>534.551630</td>\n",
       "      <td>0.246377</td>\n",
       "      <td>0.425725</td>\n",
       "      <td>26.573732</td>\n",
       "      <td>3.727355</td>\n",
       "      <td>-0.389198</td>\n",
       "      <td>29.651087</td>\n",
       "      <td>-3.077355</td>\n",
       "      <td>29.886141</td>\n",
       "      <td>...</td>\n",
       "      <td>7.840580</td>\n",
       "      <td>-0.773622</td>\n",
       "      <td>21.941848</td>\n",
       "      <td>-6.213587</td>\n",
       "      <td>263610.746377</td>\n",
       "      <td>26.463768</td>\n",
       "      <td>-0.881792</td>\n",
       "      <td>319532.473430</td>\n",
       "      <td>-55921.727053</td>\n",
       "      <td>5.5</td>\n",
       "    </tr>\n",
       "    <tr>\n",
       "      <th>4</th>\n",
       "      <td>0.352355</td>\n",
       "      <td>435.486413</td>\n",
       "      <td>0.240036</td>\n",
       "      <td>0.651268</td>\n",
       "      <td>12.325272</td>\n",
       "      <td>-2.167572</td>\n",
       "      <td>0.279312</td>\n",
       "      <td>18.905978</td>\n",
       "      <td>-6.580707</td>\n",
       "      <td>18.506884</td>\n",
       "      <td>...</td>\n",
       "      <td>-2.344203</td>\n",
       "      <td>0.243422</td>\n",
       "      <td>14.585145</td>\n",
       "      <td>-7.396739</td>\n",
       "      <td>64783.516304</td>\n",
       "      <td>-13.461957</td>\n",
       "      <td>0.449670</td>\n",
       "      <td>211338.224459</td>\n",
       "      <td>-145902.724001</td>\n",
       "      <td>7.5</td>\n",
       "    </tr>\n",
       "    <tr>\n",
       "      <th>5</th>\n",
       "      <td>0.743659</td>\n",
       "      <td>313.427536</td>\n",
       "      <td>0.082428</td>\n",
       "      <td>0.915761</td>\n",
       "      <td>1.481341</td>\n",
       "      <td>-8.464674</td>\n",
       "      <td>0.993067</td>\n",
       "      <td>7.942935</td>\n",
       "      <td>-6.461594</td>\n",
       "      <td>4.794384</td>\n",
       "      <td>...</td>\n",
       "      <td>-16.673007</td>\n",
       "      <td>1.657267</td>\n",
       "      <td>6.090580</td>\n",
       "      <td>-5.345109</td>\n",
       "      <td>142.522645</td>\n",
       "      <td>-45.773551</td>\n",
       "      <td>1.532906</td>\n",
       "      <td>107707.172583</td>\n",
       "      <td>-107514.583843</td>\n",
       "      <td>9.5</td>\n",
       "    </tr>\n",
       "  </tbody>\n",
       "</table>\n",
       "<p>5 rows × 42 columns</p>\n",
       "</div>"
      ],
      "text/plain": [
       "               y       score       가동1       가동2      귀점_당월  귀점_당월_points  \\\n",
       "grade2                                                                      \n",
       "1       0.013587  652.874094  0.188406  0.120471  63.450543     15.177536   \n",
       "2       0.056159  592.667572  0.250000  0.236413  45.058605      9.832428   \n",
       "3       0.132246  534.551630  0.246377  0.425725  26.573732      3.727355   \n",
       "4       0.352355  435.486413  0.240036  0.651268  12.325272     -2.167572   \n",
       "5       0.743659  313.427536  0.082428  0.915761   1.481341     -8.464674   \n",
       "\n",
       "        귀점_당월_woe      귀점_직3    귀점_직3P     사랑온_당월  ...  통합보장_당월_points  \\\n",
       "grade2                                             ...                   \n",
       "1       -1.671849  57.196739  6.253804  52.578533  ...       17.305254   \n",
       "2       -1.075615  43.224909  1.833696  40.357699  ...       14.934783   \n",
       "3       -0.389198  29.651087 -3.077355  29.886141  ...        7.840580   \n",
       "4        0.279312  18.905978 -6.580707  18.506884  ...       -2.344203   \n",
       "5        0.993067   7.942935 -6.461594   4.794384  ...      -16.673007   \n",
       "\n",
       "        통합보장_당월_woe    통합보장_직3  통합보장_직3P          환산_당월  환산_당월_points  \\\n",
       "grade2                                                                  \n",
       "1         -1.762735  42.456612 -4.271830  642772.934783     67.586957   \n",
       "2         -1.511956  32.592391 -5.116848  401324.868659     42.608696   \n",
       "3         -0.773622  21.941848 -6.213587  263610.746377     26.463768   \n",
       "4          0.243422  14.585145 -7.396739   64783.516304    -13.461957   \n",
       "5          1.657267   6.090580 -5.345109     142.522645    -45.773551   \n",
       "\n",
       "        환산_당월_woe          환산_직3         환산_직3P  grade  \n",
       "grade2                                                  \n",
       "1       -2.232414  611257.571558   31515.363225    1.5  \n",
       "2       -1.414457  437508.866546  -36183.997886    3.5  \n",
       "3       -0.881792  319532.473430  -55921.727053    5.5  \n",
       "4        0.449670  211338.224459 -145902.724001    7.5  \n",
       "5        1.532906  107707.172583 -107514.583843    9.5  \n",
       "\n",
       "[5 rows x 42 columns]"
      ]
     },
     "execution_count": 29,
     "metadata": {},
     "output_type": "execute_result"
    }
   ],
   "source": [
    "data_all.drop(columns=['코드']).groupby(['grade2']).mean()"
   ]
  },
  {
   "cell_type": "markdown",
   "metadata": {},
   "source": [
    "---"
   ]
  },
  {
   "cell_type": "markdown",
   "metadata": {},
   "source": [
    "## 점수분포확인"
   ]
  },
  {
   "cell_type": "code",
   "execution_count": 32,
   "metadata": {},
   "outputs": [
    {
     "data": {
      "text/plain": [
       "count    5520.000000\n",
       "mean      505.801449\n",
       "std       122.599480\n",
       "min       279.000000\n",
       "25%       404.750000\n",
       "50%       536.000000\n",
       "75%       605.250000\n",
       "max       711.000000\n",
       "Name: score, dtype: float64"
      ]
     },
     "execution_count": 32,
     "metadata": {},
     "output_type": "execute_result"
    }
   ],
   "source": [
    "data_all.score.describe()"
   ]
  },
  {
   "cell_type": "markdown",
   "metadata": {},
   "source": [
    "---"
   ]
  },
  {
   "cell_type": "markdown",
   "metadata": {},
   "source": [
    "# badpoint 분석"
   ]
  },
  {
   "cell_type": "code",
   "execution_count": null,
   "metadata": {},
   "outputs": [],
   "source": [
    "# data_all = pd.read_excel(f'./result2차/data_all_v1_가동제외.xlsx', converters={'코드':str})#.set_index('코드')"
   ]
  },
  {
   "cell_type": "code",
   "execution_count": null,
   "metadata": {},
   "outputs": [],
   "source": [
    "grade_lst = []\n",
    "n = len(data_all)//10\n",
    "for i in range(10):\n",
    "    grade_lst += [i+1]*n\n",
    "grade_lst += [10]*(len(data_all)-len(grade_lst))\n",
    "\n",
    "grade_lst2 = []\n",
    "n2 = len(data_all)//5\n",
    "for i in range(5):\n",
    "    grade_lst2 += [i+1]*n2\n",
    "grade_lst2 += [5]*(len(data_all)-len(grade_lst2))\n",
    "\n",
    "data_all = data_all.sort_values(by='score',ascending=False).reset_index(drop=True)\n",
    "data_all['grade'] = grade_lst\n",
    "data_all['grade2'] = grade_lst2"
   ]
  },
  {
   "cell_type": "code",
   "execution_count": null,
   "metadata": {
    "scrolled": true
   },
   "outputs": [],
   "source": [
    "t = data_all[:]\n",
    "\n",
    "cat1 = ['환산_당월_points']\n",
    "cat2 = ['조회_당월_points','귀점_당월_points','통합보장_당월_points',   '상설_당월_points']\n",
    "cat3 = ['사랑온_당월_points','총동의_당월_points']\n",
    "# cat4 = [ '사랑온_직3_points', '통합보장_직3_points',       '상설_직3_points']\n",
    "# cat5 = ['환산_당월_points','환산_직3_points','소득_points']\n",
    "# cat6 = ['유지_points','가동1_points', '가동2_points']\n",
    "# '조회_직3_points','귀점_직3_points',\n",
    "\n",
    "cat_dict = {}\n",
    "# cat_dict['cat1'] = cat1\n",
    "cat_dict['cat2'] = cat2\n",
    "cat_dict['cat3'] = cat3\n",
    "# cat_dict['cat4'] = cat4\n",
    "# cat_dict['cat5'] = cat5\n",
    "# cat_dict['cat6'] = cat6\n",
    "print(cat_dict)\n",
    "\n",
    "all_cols = sum(list(cat_dict.values()),[])\n",
    "goodpoint_dict = t[ all_cols ].max()\n",
    "pd.DataFrame(goodpoint_dict).T\n",
    "\n",
    "\n",
    "\n",
    "df_case = t[['코드','y','score','grade2']]\n",
    "df_case['환산'] = list(t.환산_당월_points > 0) # q = np.mean(t.환산_당월_points )\n",
    "# q1 = t[cat2].sum(axis=1).quantile(0.75) # np.mean(t[cat2].sum(axis=1))# \n",
    "# q2 = t[cat3].sum(axis=1).quantile(0.75) # np.mean(t[cat3].sum(axis=1)) # \n",
    "q1=60; q2=40;\n",
    "df_case['활동1'] = list(t[cat2].sum(axis=1) > q1) # 18  40   60\n",
    "df_case['활동2'] = list(t[cat3].sum(axis=1) > q2) # 10  31  40\n",
    "\n",
    "df_case['case'] = list(map(lambda x,y,z: 1 if x&y&z \n",
    "            else (2 if x&~y&z \n",
    "                 else (3 if x&y&~z \n",
    "                      else (4 if ~x&y&z \n",
    "                           else (5 if x&~y&~z \n",
    "                                else (6 if ~x&y&~z  \n",
    "                                      else (7 if ~x&~y&z \n",
    "                                           else 8 if ~x&~y&~z else '') ))))), df_case.환산, df_case.활동1, df_case.활동2)) \n",
    "\n",
    "\n",
    "df_case['비중'] = 1\n",
    "grp = df_case.groupby(['case','환산', '활동1', '활동2']).agg({'코드':'count','비중':'sum','score':'mean','y':'mean'}).sort_values(by='y', ascending=True)\n",
    "grp['비중'] = grp['비중']/5520\n",
    "grp"
   ]
  },
  {
   "cell_type": "code",
   "execution_count": null,
   "metadata": {},
   "outputs": [],
   "source": [
    "\n",
    "print(len(df_case[df_case.활동1])); print(len(df_case[~df_case.활동1]));\n",
    "print(len(df_case[df_case.활동2])); print(len(df_case[~df_case.활동2]));\n",
    "print(len(df_case[df_case.환산])), print(len(df_case[~df_case.환산]));"
   ]
  },
  {
   "cell_type": "code",
   "execution_count": null,
   "metadata": {},
   "outputs": [],
   "source": [
    "t[cat1].sum(axis=1).describe()"
   ]
  },
  {
   "cell_type": "code",
   "execution_count": null,
   "metadata": {},
   "outputs": [],
   "source": [
    "t[cat2].sum(axis=1).describe()"
   ]
  },
  {
   "cell_type": "code",
   "execution_count": null,
   "metadata": {},
   "outputs": [],
   "source": [
    "t[cat3].sum(axis=1).describe()"
   ]
  },
  {
   "cell_type": "code",
   "execution_count": null,
   "metadata": {},
   "outputs": [],
   "source": [
    "c = pd.read_csv('./input/스코어비교.csv',encoding = 'euc-kr', converters={'코드':str})\n",
    "c = c[~c.유형분류.isna()]"
   ]
  },
  {
   "cell_type": "code",
   "execution_count": null,
   "metadata": {},
   "outputs": [],
   "source": [
    "ggg = data_all.merge(c, left_on='코드', right_on='코드', how='left')\n"
   ]
  },
  {
   "cell_type": "code",
   "execution_count": null,
   "metadata": {},
   "outputs": [],
   "source": [
    "ccc = c.merge(df_case, left_on='코드', right_on='코드', how='left')\n",
    "# ccc.to_csv('ddd.csv', encoding='utf-8-sig')"
   ]
  },
  {
   "cell_type": "code",
   "execution_count": null,
   "metadata": {},
   "outputs": [],
   "source": [
    "ccc.groupby(['유형분류'])[['코드']].count()"
   ]
  },
  {
   "cell_type": "code",
   "execution_count": null,
   "metadata": {},
   "outputs": [],
   "source": [
    "ccc[ccc.유형분류=='육성&선발'].case"
   ]
  },
  {
   "cell_type": "code",
   "execution_count": null,
   "metadata": {},
   "outputs": [],
   "source": [
    "7+4+23+43+9\n"
   ]
  },
  {
   "cell_type": "code",
   "execution_count": null,
   "metadata": {},
   "outputs": [],
   "source": [
    "a1 = ccc.groupby(['case','유형분류'])[['코드']].count().pivot_table(index=['case'],columns='유형분류')\n"
   ]
  },
  {
   "cell_type": "code",
   "execution_count": null,
   "metadata": {},
   "outputs": [],
   "source": [
    "ccc.groupby(['case','지역단명','유형분류'])[['코드']].count().pivot_table(index=['case'],columns=['지역단명','유형분류'])"
   ]
  },
  {
   "cell_type": "code",
   "execution_count": null,
   "metadata": {},
   "outputs": [],
   "source": [
    "ccc.groupby(['유형분류','case']).count()"
   ]
  },
  {
   "cell_type": "code",
   "execution_count": null,
   "metadata": {},
   "outputs": [],
   "source": [
    "ccc.groupby(['유형분류','환산', '활동1', '활동2']).count()"
   ]
  },
  {
   "cell_type": "code",
   "execution_count": null,
   "metadata": {},
   "outputs": [],
   "source": [
    "t = data_all[:]\n",
    "\n",
    "cat1 = ['환산_당월_points','소득_points']\n",
    "cat2 = ['조회_당월_points','귀점_당월_points','통합보장_당월_points',   '상설_당월_points']\n",
    "cat3 = ['사랑온_당월_points','총동의_당월_points']\n",
    "# cat4 = [ '사랑온_직3_points', '통합보장_직3_points',       '상설_직3_points']\n",
    "# cat5 = ['환산_당월_points','환산_직3_points','소득_points']\n",
    "# cat6 = ['유지_points','가동1_points', '가동2_points']\n",
    "# '조회_직3_points','귀점_직3_points',\n",
    "\n",
    "cat_dict = {}\n",
    "# cat_dict['cat1'] = cat1\n",
    "cat_dict['cat2'] = cat2\n",
    "cat_dict['cat3'] = cat3\n",
    "# cat_dict['cat4'] = cat4\n",
    "# cat_dict['cat5'] = cat5\n",
    "# cat_dict['cat6'] = cat6\n",
    "print(cat_dict)\n",
    "\n",
    "all_cols = sum(list(cat_dict.values()),[])\n",
    "goodpoint_dict = t[ all_cols ].max()\n",
    "pd.DataFrame(goodpoint_dict).T\n",
    "\n",
    "\n",
    "\n",
    "df_case = t[['코드','y','score','grade2']]\n",
    "df_case['환산'] = list(t[cat1].sum(axis=1) > 0)\n",
    "df_case['활동1'] = list(t[cat2].sum(axis=1) > 0)\n",
    "df_case['활동2'] = list(t[cat3].sum(axis=1) > 0)\n",
    "\n",
    "\n",
    "df_case.groupby(['환산', '활동1', '활동2']).agg({'코드':'count','score':'mean','y':'mean'}).sort_values(by='y', ascending=True)"
   ]
  },
  {
   "cell_type": "code",
   "execution_count": null,
   "metadata": {},
   "outputs": [],
   "source": [
    "t = data_all[:]\n",
    "\n",
    "cat1 = ['환산_당월_points','소득_points']\n",
    "cat2 = ['조회_당월_points','귀점_당월_points','통합보장_당월_points',   '상설_당월_points']\n",
    "cat3 = ['사랑온_당월_points','총동의_당월_points']\n",
    "# cat4 = [ '사랑온_직3_points', '통합보장_직3_points',       '상설_직3_points']\n",
    "# cat5 = ['환산_당월_points','환산_직3_points','소득_points']\n",
    "# cat6 = ['유지_points','가동1_points', '가동2_points']\n",
    "# '조회_직3_points','귀점_직3_points',\n",
    "\n",
    "cat_dict = {}\n",
    "# cat_dict['cat1'] = cat1\n",
    "cat_dict['cat2'] = cat2\n",
    "cat_dict['cat3'] = cat3\n",
    "# cat_dict['cat4'] = cat4\n",
    "# cat_dict['cat5'] = cat5\n",
    "# cat_dict['cat6'] = cat6\n",
    "print(cat_dict)\n",
    "\n",
    "all_cols = sum(list(cat_dict.values()),[])\n",
    "goodpoint_dict = t[ all_cols ].max()\n",
    "pd.DataFrame(goodpoint_dict).T\n",
    "\n",
    "\n",
    "\n",
    "df_case = t[['코드','y','score','grade2']]\n",
    "df_case['소득'] = list(t[cat1].sum(axis=1) > 0)\n",
    "# df_case['환산'] = list((t['환산_당월_points'] > 0) & (t['소득_points']>0 ))\n",
    "df_case['활동1'] = list(t[cat2].sum(axis=1) > 0)\n",
    "df_case['활동2'] = list(t[cat3].sum(axis=1) > 0)\n",
    "\n",
    "\n",
    "df_case.groupby(['소득', '활동1', '활동2']).agg({'코드':'count','score':'mean','y':'mean'}).sort_values(by='y', ascending=True)"
   ]
  },
  {
   "cell_type": "code",
   "execution_count": null,
   "metadata": {},
   "outputs": [],
   "source": []
  },
  {
   "cell_type": "code",
   "execution_count": null,
   "metadata": {},
   "outputs": [],
   "source": [
    "df_case.groupby(['소득']).count()"
   ]
  },
  {
   "cell_type": "code",
   "execution_count": null,
   "metadata": {
    "scrolled": true
   },
   "outputs": [],
   "source": [
    "t[cat2].sum(axis=1).describe()"
   ]
  },
  {
   "cell_type": "code",
   "execution_count": null,
   "metadata": {},
   "outputs": [],
   "source": [
    "t[cat3].sum(axis=1).describe()"
   ]
  }
 ],
 "metadata": {
  "kernelspec": {
   "display_name": "Python 3",
   "language": "python",
   "name": "python3"
  },
  "language_info": {
   "codemirror_mode": {
    "name": "ipython",
    "version": 3
   },
   "file_extension": ".py",
   "mimetype": "text/x-python",
   "name": "python",
   "nbconvert_exporter": "python",
   "pygments_lexer": "ipython3",
   "version": "3.7.6"
  }
 },
 "nbformat": 4,
 "nbformat_minor": 4
}
