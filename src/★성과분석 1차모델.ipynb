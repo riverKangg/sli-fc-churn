{
 "cells": [
  {
   "cell_type": "code",
   "execution_count": 1,
   "metadata": {},
   "outputs": [
    {
     "data": {
      "text/plain": [
       "(13773, 18)"
      ]
     },
     "execution_count": 1,
     "metadata": {},
     "output_type": "execute_result"
    }
   ],
   "source": [
    "import pandas as pd\n",
    "import warnings\n",
    "warnings.filterwarnings('ignore')\n",
    "\n",
    "raw = pd.read_csv('./DATA/데이터2303_2310.csv', encoding='euc-kr', converters={'코드':str})\n",
    "raw.shape"
   ]
  },
  {
   "cell_type": "code",
   "execution_count": 2,
   "metadata": {},
   "outputs": [
    {
     "data": {
      "text/html": [
       "<div>\n",
       "<style scoped>\n",
       "    .dataframe tbody tr th:only-of-type {\n",
       "        vertical-align: middle;\n",
       "    }\n",
       "\n",
       "    .dataframe tbody tr th {\n",
       "        vertical-align: top;\n",
       "    }\n",
       "\n",
       "    .dataframe thead th {\n",
       "        text-align: right;\n",
       "    }\n",
       "</style>\n",
       "<table border=\"1\" class=\"dataframe\">\n",
       "  <thead>\n",
       "    <tr style=\"text-align: right;\">\n",
       "      <th></th>\n",
       "      <th>코드</th>\n",
       "      <th>해촉일자</th>\n",
       "      <th>해촉사유</th>\n",
       "      <th>스코어2303</th>\n",
       "      <th>2209차월</th>\n",
       "      <th>2210차월</th>\n",
       "      <th>2211차월</th>\n",
       "      <th>2212차월</th>\n",
       "      <th>2301차월</th>\n",
       "      <th>2302차월</th>\n",
       "      <th>2303차월</th>\n",
       "      <th>2304차월</th>\n",
       "      <th>2305차월</th>\n",
       "      <th>2306차월</th>\n",
       "      <th>2307차월</th>\n",
       "      <th>2308차월</th>\n",
       "      <th>2309차월</th>\n",
       "      <th>2310차월</th>\n",
       "    </tr>\n",
       "  </thead>\n",
       "  <tbody>\n",
       "    <tr>\n",
       "      <th>0</th>\n",
       "      <td>0001870469</td>\n",
       "      <td>NaN</td>\n",
       "      <td>NaN</td>\n",
       "      <td>758.0</td>\n",
       "      <td>3</td>\n",
       "      <td>4</td>\n",
       "      <td>5</td>\n",
       "      <td>6</td>\n",
       "      <td>7</td>\n",
       "      <td>8</td>\n",
       "      <td>9</td>\n",
       "      <td>10</td>\n",
       "      <td>11</td>\n",
       "      <td>12</td>\n",
       "      <td>13</td>\n",
       "      <td>14</td>\n",
       "      <td>15</td>\n",
       "      <td>16</td>\n",
       "    </tr>\n",
       "  </tbody>\n",
       "</table>\n",
       "</div>"
      ],
      "text/plain": [
       "           코드  해촉일자 해촉사유  스코어2303  2209차월  2210차월  2211차월  2212차월  2301차월  \\\n",
       "0  0001870469   NaN  NaN    758.0       3       4       5       6       7   \n",
       "\n",
       "   2302차월  2303차월  2304차월  2305차월  2306차월  2307차월  2308차월  2309차월  2310차월  \n",
       "0       8       9      10      11      12      13      14      15      16  "
      ]
     },
     "execution_count": 2,
     "metadata": {},
     "output_type": "execute_result"
    }
   ],
   "source": [
    "raw.head(1)"
   ]
  },
  {
   "cell_type": "code",
   "execution_count": 3,
   "metadata": {},
   "outputs": [
    {
     "data": {
      "text/plain": [
       "20221001.0"
      ]
     },
     "execution_count": 3,
     "metadata": {},
     "output_type": "execute_result"
    }
   ],
   "source": [
    "min(raw[~raw.해촉일자.isna()].해촉일자)"
   ]
  },
  {
   "cell_type": "code",
   "execution_count": 4,
   "metadata": {},
   "outputs": [
    {
     "data": {
      "text/html": [
       "<div>\n",
       "<style scoped>\n",
       "    .dataframe tbody tr th:only-of-type {\n",
       "        vertical-align: middle;\n",
       "    }\n",
       "\n",
       "    .dataframe tbody tr th {\n",
       "        vertical-align: top;\n",
       "    }\n",
       "\n",
       "    .dataframe thead th {\n",
       "        text-align: right;\n",
       "    }\n",
       "</style>\n",
       "<table border=\"1\" class=\"dataframe\">\n",
       "  <thead>\n",
       "    <tr style=\"text-align: right;\">\n",
       "      <th></th>\n",
       "      <th>해촉일자</th>\n",
       "      <th>해촉사유</th>\n",
       "    </tr>\n",
       "    <tr>\n",
       "      <th>코드</th>\n",
       "      <th></th>\n",
       "      <th></th>\n",
       "    </tr>\n",
       "  </thead>\n",
       "  <tbody>\n",
       "    <tr>\n",
       "      <th>0001870469</th>\n",
       "      <td>NaN</td>\n",
       "      <td>NaN</td>\n",
       "    </tr>\n",
       "  </tbody>\n",
       "</table>\n",
       "</div>"
      ],
      "text/plain": [
       "            해촉일자 해촉사유\n",
       "코드                   \n",
       "0001870469   NaN  NaN"
      ]
     },
     "execution_count": 4,
     "metadata": {},
     "output_type": "execute_result"
    }
   ],
   "source": [
    "data = raw[(raw['2302차월']>7)&(raw['2302차월']<38)]\n",
    "data = data[(data.해촉사유.isna() )| ((data.해촉사유=='일반')&(data.해촉일자>20230215))]\n",
    "data = data[['코드','해촉일자','해촉사유']]\n",
    "data = data.set_index('코드')\n",
    "data.head(1)"
   ]
  },
  {
   "cell_type": "code",
   "execution_count": 5,
   "metadata": {},
   "outputs": [
    {
     "data": {
      "text/plain": [
       "(5440, 2)"
      ]
     },
     "execution_count": 5,
     "metadata": {},
     "output_type": "execute_result"
    }
   ],
   "source": [
    "data.shape"
   ]
  },
  {
   "cell_type": "code",
   "execution_count": 6,
   "metadata": {},
   "outputs": [],
   "source": [
    "rank = pd.read_excel('../result/rank_2302_6M.xlsx', converters={'코드':str},\n",
    "                    usecols = ['코드','proba','파일럿대상'])\n",
    "rank = rank[['코드','proba','파일럿대상']]\n",
    "rank = rank.set_index('코드')"
   ]
  },
  {
   "cell_type": "code",
   "execution_count": 7,
   "metadata": {},
   "outputs": [
    {
     "data": {
      "text/plain": [
       "437"
      ]
     },
     "execution_count": 7,
     "metadata": {},
     "output_type": "execute_result"
    }
   ],
   "source": [
    "sum(rank.파일럿대상)"
   ]
  },
  {
   "cell_type": "code",
   "execution_count": 8,
   "metadata": {},
   "outputs": [],
   "source": [
    "df = data.join(rank)\n",
    "# df[df.proba.isna()]\n",
    "df = df[~df.proba.isna()]\n",
    "# df.shape"
   ]
  },
  {
   "cell_type": "markdown",
   "metadata": {},
   "source": [
    "# 등급별 이탈률\n",
    "- 이탈 확률(`proba`)을 등급 갯수(`num_of_grade`)만큼 나누어 구간별 실제 이탈률 확인"
   ]
  },
  {
   "cell_type": "code",
   "execution_count": 10,
   "metadata": {},
   "outputs": [
    {
     "data": {
      "text/plain": [
       "20230301.0"
      ]
     },
     "execution_count": 10,
     "metadata": {},
     "output_type": "execute_result"
    }
   ],
   "source": [
    "min(df[~df.해촉일자.isna()].해촉일자)"
   ]
  },
  {
   "cell_type": "code",
   "execution_count": 40,
   "metadata": {},
   "outputs": [
    {
     "data": {
      "text/plain": [
       "[0,\n",
       " 0.015072339658145788,\n",
       " 0.05038449934624961,\n",
       " 0.17589407324403084,\n",
       " 0.5523355293188983,\n",
       " 1]"
      ]
     },
     "execution_count": 40,
     "metadata": {},
     "output_type": "execute_result"
    }
   ],
   "source": [
    "bins = [0]\n",
    "num_of_grade = 5\n",
    "for i in range(num_cat-1):\n",
    "    bins += [df.proba.quantile((i+1)/num_of_grade)]\n",
    "bins += [1]\n",
    "bins"
   ]
  },
  {
   "cell_type": "code",
   "execution_count": 41,
   "metadata": {},
   "outputs": [
    {
     "data": {
      "text/html": [
       "<div>\n",
       "<style scoped>\n",
       "    .dataframe tbody tr th:only-of-type {\n",
       "        vertical-align: middle;\n",
       "    }\n",
       "\n",
       "    .dataframe tbody tr th {\n",
       "        vertical-align: top;\n",
       "    }\n",
       "\n",
       "    .dataframe thead th {\n",
       "        text-align: right;\n",
       "    }\n",
       "</style>\n",
       "<table border=\"1\" class=\"dataframe\">\n",
       "  <thead>\n",
       "    <tr style=\"text-align: right;\">\n",
       "      <th></th>\n",
       "      <th>해촉일자</th>\n",
       "      <th>해촉사유</th>\n",
       "      <th>proba</th>\n",
       "      <th>파일럿대상</th>\n",
       "      <th>grade</th>\n",
       "      <th>y</th>\n",
       "    </tr>\n",
       "    <tr>\n",
       "      <th>코드</th>\n",
       "      <th></th>\n",
       "      <th></th>\n",
       "      <th></th>\n",
       "      <th></th>\n",
       "      <th></th>\n",
       "      <th></th>\n",
       "    </tr>\n",
       "  </thead>\n",
       "  <tbody>\n",
       "    <tr>\n",
       "      <th>0001870469</th>\n",
       "      <td>NaN</td>\n",
       "      <td>NaN</td>\n",
       "      <td>0.000366</td>\n",
       "      <td>False</td>\n",
       "      <td>1</td>\n",
       "      <td>0</td>\n",
       "    </tr>\n",
       "  </tbody>\n",
       "</table>\n",
       "</div>"
      ],
      "text/plain": [
       "            해촉일자 해촉사유     proba  파일럿대상 grade  y\n",
       "코드                                             \n",
       "0001870469   NaN  NaN  0.000366  False     1  0"
      ]
     },
     "execution_count": 41,
     "metadata": {},
     "output_type": "execute_result"
    }
   ],
   "source": [
    "labels = list(range(1, len(bins)))\n",
    "df['grade'] = pd.cut(df['proba'], bins=bins, labels=labels, include_lowest=True)\n",
    "df['y'] = list(map(lambda x: 1 if x=='일반' else 0, df.해촉사유))\n",
    "df.head(1)"
   ]
  },
  {
   "cell_type": "code",
   "execution_count": 42,
   "metadata": {},
   "outputs": [
    {
     "data": {
      "text/plain": [
       "24.0"
      ]
     },
     "execution_count": 42,
     "metadata": {},
     "output_type": "execute_result"
    }
   ],
   "source": [
    "\n",
    "round(df.proba.mean()*100,1)"
   ]
  },
  {
   "cell_type": "code",
   "execution_count": 43,
   "metadata": {},
   "outputs": [
    {
     "data": {
      "text/html": [
       "<div>\n",
       "<style scoped>\n",
       "    .dataframe tbody tr th:only-of-type {\n",
       "        vertical-align: middle;\n",
       "    }\n",
       "\n",
       "    .dataframe tbody tr th {\n",
       "        vertical-align: top;\n",
       "    }\n",
       "\n",
       "    .dataframe thead th {\n",
       "        text-align: right;\n",
       "    }\n",
       "</style>\n",
       "<table border=\"1\" class=\"dataframe\">\n",
       "  <thead>\n",
       "    <tr style=\"text-align: right;\">\n",
       "      <th></th>\n",
       "      <th>grade</th>\n",
       "      <th>대상자수</th>\n",
       "      <th>이탈자수</th>\n",
       "      <th>평균점수</th>\n",
       "      <th>이탈률</th>\n",
       "    </tr>\n",
       "  </thead>\n",
       "  <tbody>\n",
       "    <tr>\n",
       "      <th>0</th>\n",
       "      <td>1</td>\n",
       "      <td>1086</td>\n",
       "      <td>28</td>\n",
       "      <td>0.7</td>\n",
       "      <td>0.025783</td>\n",
       "    </tr>\n",
       "    <tr>\n",
       "      <th>1</th>\n",
       "      <td>2</td>\n",
       "      <td>1086</td>\n",
       "      <td>91</td>\n",
       "      <td>3.0</td>\n",
       "      <td>0.083794</td>\n",
       "    </tr>\n",
       "    <tr>\n",
       "      <th>2</th>\n",
       "      <td>3</td>\n",
       "      <td>1086</td>\n",
       "      <td>189</td>\n",
       "      <td>9.9</td>\n",
       "      <td>0.174033</td>\n",
       "    </tr>\n",
       "    <tr>\n",
       "      <th>3</th>\n",
       "      <td>4</td>\n",
       "      <td>1086</td>\n",
       "      <td>423</td>\n",
       "      <td>35.3</td>\n",
       "      <td>0.389503</td>\n",
       "    </tr>\n",
       "    <tr>\n",
       "      <th>4</th>\n",
       "      <td>5</td>\n",
       "      <td>1086</td>\n",
       "      <td>814</td>\n",
       "      <td>71.1</td>\n",
       "      <td>0.749540</td>\n",
       "    </tr>\n",
       "  </tbody>\n",
       "</table>\n",
       "</div>"
      ],
      "text/plain": [
       "  grade  대상자수  이탈자수  평균점수       이탈률\n",
       "0     1  1086    28   0.7  0.025783\n",
       "1     2  1086    91   3.0  0.083794\n",
       "2     3  1086   189   9.9  0.174033\n",
       "3     4  1086   423  35.3  0.389503\n",
       "4     5  1086   814  71.1  0.749540"
      ]
     },
     "execution_count": 43,
     "metadata": {},
     "output_type": "execute_result"
    }
   ],
   "source": [
    "grade_df = df.groupby(['grade']).agg(대상자수=('grade','size'),\n",
    "                           이탈자수=('y','sum'),\n",
    "                            평균점수=('proba','mean')\n",
    "                                      ).reset_index()\n",
    "# grade_df = grade_df.sort_values(by='grade', ascending=False)\n",
    "grade_df['이탈률'] = grade_df.이탈자수/grade_df.대상자수\n",
    "grade_df['평균점수'] = round(grade_df.평균점수*100,1)\n",
    "grade_df"
   ]
  },
  {
   "cell_type": "markdown",
   "metadata": {},
   "source": [
    "# 상반기\n",
    "- 상반기 파일럿 대상자의 6개월 이후 이탈률을 확인함"
   ]
  },
  {
   "cell_type": "code",
   "execution_count": 44,
   "metadata": {},
   "outputs": [
    {
     "data": {
      "text/plain": [
       "422"
      ]
     },
     "execution_count": 44,
     "metadata": {},
     "output_type": "execute_result"
    }
   ],
   "source": [
    "sum(df.파일럿대상)"
   ]
  },
  {
   "cell_type": "code",
   "execution_count": 45,
   "metadata": {},
   "outputs": [],
   "source": [
    "grade_df = df.groupby(['grade']).agg(전체대상자=('grade','size'),\n",
    "                         파일럿대상자=('파일럿대상', 'sum'),\n",
    "                           이탈자수=('y','sum'),\n",
    "                            이탈률=('y','mean'),\n",
    "                            평균점수=('proba','mean')\n",
    "                                      ).reset_index()"
   ]
  },
  {
   "cell_type": "code",
   "execution_count": 46,
   "metadata": {},
   "outputs": [
    {
     "data": {
      "text/html": [
       "<div>\n",
       "<style scoped>\n",
       "    .dataframe tbody tr th:only-of-type {\n",
       "        vertical-align: middle;\n",
       "    }\n",
       "\n",
       "    .dataframe tbody tr th {\n",
       "        vertical-align: top;\n",
       "    }\n",
       "\n",
       "    .dataframe thead th {\n",
       "        text-align: right;\n",
       "    }\n",
       "</style>\n",
       "<table border=\"1\" class=\"dataframe\">\n",
       "  <thead>\n",
       "    <tr style=\"text-align: right;\">\n",
       "      <th></th>\n",
       "      <th>grade</th>\n",
       "      <th>전체대상자</th>\n",
       "      <th>파일럿대상자</th>\n",
       "      <th>이탈자수</th>\n",
       "      <th>이탈률</th>\n",
       "      <th>평균점수</th>\n",
       "    </tr>\n",
       "  </thead>\n",
       "  <tbody>\n",
       "    <tr>\n",
       "      <th>0</th>\n",
       "      <td>1</td>\n",
       "      <td>1086</td>\n",
       "      <td>81</td>\n",
       "      <td>28</td>\n",
       "      <td>0.025783</td>\n",
       "      <td>0.006711</td>\n",
       "    </tr>\n",
       "    <tr>\n",
       "      <th>1</th>\n",
       "      <td>2</td>\n",
       "      <td>1086</td>\n",
       "      <td>86</td>\n",
       "      <td>91</td>\n",
       "      <td>0.083794</td>\n",
       "      <td>0.029870</td>\n",
       "    </tr>\n",
       "    <tr>\n",
       "      <th>2</th>\n",
       "      <td>3</td>\n",
       "      <td>1086</td>\n",
       "      <td>93</td>\n",
       "      <td>189</td>\n",
       "      <td>0.174033</td>\n",
       "      <td>0.098608</td>\n",
       "    </tr>\n",
       "    <tr>\n",
       "      <th>3</th>\n",
       "      <td>4</td>\n",
       "      <td>1086</td>\n",
       "      <td>89</td>\n",
       "      <td>423</td>\n",
       "      <td>0.389503</td>\n",
       "      <td>0.353136</td>\n",
       "    </tr>\n",
       "    <tr>\n",
       "      <th>4</th>\n",
       "      <td>5</td>\n",
       "      <td>1086</td>\n",
       "      <td>73</td>\n",
       "      <td>814</td>\n",
       "      <td>0.749540</td>\n",
       "      <td>0.711253</td>\n",
       "    </tr>\n",
       "  </tbody>\n",
       "</table>\n",
       "</div>"
      ],
      "text/plain": [
       "  grade  전체대상자  파일럿대상자  이탈자수       이탈률      평균점수\n",
       "0     1   1086      81    28  0.025783  0.006711\n",
       "1     2   1086      86    91  0.083794  0.029870\n",
       "2     3   1086      93   189  0.174033  0.098608\n",
       "3     4   1086      89   423  0.389503  0.353136\n",
       "4     5   1086      73   814  0.749540  0.711253"
      ]
     },
     "execution_count": 46,
     "metadata": {},
     "output_type": "execute_result"
    }
   ],
   "source": [
    "grade_df"
   ]
  },
  {
   "cell_type": "code",
   "execution_count": 47,
   "metadata": {},
   "outputs": [
    {
     "data": {
      "text/html": [
       "<div>\n",
       "<style scoped>\n",
       "    .dataframe tbody tr th:only-of-type {\n",
       "        vertical-align: middle;\n",
       "    }\n",
       "\n",
       "    .dataframe tbody tr th {\n",
       "        vertical-align: top;\n",
       "    }\n",
       "\n",
       "    .dataframe thead th {\n",
       "        text-align: right;\n",
       "    }\n",
       "</style>\n",
       "<table border=\"1\" class=\"dataframe\">\n",
       "  <thead>\n",
       "    <tr style=\"text-align: right;\">\n",
       "      <th></th>\n",
       "      <th>grade</th>\n",
       "      <th>전체대상자</th>\n",
       "      <th>사전센싱대상자</th>\n",
       "      <th>이탈자수</th>\n",
       "      <th>평균점수</th>\n",
       "    </tr>\n",
       "  </thead>\n",
       "  <tbody>\n",
       "    <tr>\n",
       "      <th>0</th>\n",
       "      <td>1</td>\n",
       "      <td>81</td>\n",
       "      <td>81</td>\n",
       "      <td>2</td>\n",
       "      <td>0.007328</td>\n",
       "    </tr>\n",
       "    <tr>\n",
       "      <th>1</th>\n",
       "      <td>2</td>\n",
       "      <td>86</td>\n",
       "      <td>86</td>\n",
       "      <td>9</td>\n",
       "      <td>0.029686</td>\n",
       "    </tr>\n",
       "    <tr>\n",
       "      <th>2</th>\n",
       "      <td>3</td>\n",
       "      <td>93</td>\n",
       "      <td>93</td>\n",
       "      <td>13</td>\n",
       "      <td>0.104226</td>\n",
       "    </tr>\n",
       "    <tr>\n",
       "      <th>3</th>\n",
       "      <td>4</td>\n",
       "      <td>89</td>\n",
       "      <td>89</td>\n",
       "      <td>28</td>\n",
       "      <td>0.345559</td>\n",
       "    </tr>\n",
       "    <tr>\n",
       "      <th>4</th>\n",
       "      <td>5</td>\n",
       "      <td>73</td>\n",
       "      <td>73</td>\n",
       "      <td>45</td>\n",
       "      <td>0.700721</td>\n",
       "    </tr>\n",
       "  </tbody>\n",
       "</table>\n",
       "</div>"
      ],
      "text/plain": [
       "  grade  전체대상자  사전센싱대상자  이탈자수      평균점수\n",
       "0     1     81       81     2  0.007328\n",
       "1     2     86       86     9  0.029686\n",
       "2     3     93       93    13  0.104226\n",
       "3     4     89       89    28  0.345559\n",
       "4     5     73       73    45  0.700721"
      ]
     },
     "execution_count": 47,
     "metadata": {},
     "output_type": "execute_result"
    }
   ],
   "source": [
    "df2 = df[df.파일럿대상==True]\n",
    "grade_df = df2.groupby(['grade']).agg(전체대상자=('grade','size'),\n",
    "                         사전센싱대상자=('파일럿대상', 'sum'),\n",
    "                           이탈자수=('y','sum'),\n",
    "                            평균점수=('proba','mean')\n",
    "                                      ).reset_index()\n",
    "grade_df"
   ]
  },
  {
   "cell_type": "code",
   "execution_count": 19,
   "metadata": {},
   "outputs": [
    {
     "data": {
      "text/plain": [
       "97"
      ]
     },
     "execution_count": 19,
     "metadata": {},
     "output_type": "execute_result"
    }
   ],
   "source": [
    "sum(df2.y)\n"
   ]
  },
  {
   "cell_type": "code",
   "execution_count": null,
   "metadata": {},
   "outputs": [],
   "source": []
  }
 ],
 "metadata": {
  "kernelspec": {
   "display_name": "Python 3",
   "language": "python",
   "name": "python3"
  },
  "language_info": {
   "codemirror_mode": {
    "name": "ipython",
    "version": 3
   },
   "file_extension": ".py",
   "mimetype": "text/x-python",
   "name": "python",
   "nbconvert_exporter": "python",
   "pygments_lexer": "ipython3",
   "version": "3.7.6"
  }
 },
 "nbformat": 4,
 "nbformat_minor": 4
}
